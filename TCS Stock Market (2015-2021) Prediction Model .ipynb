{
 "cells": [
  {
   "cell_type": "code",
   "execution_count": 1,
   "id": "7314011f",
   "metadata": {
    "scrolled": true
   },
   "outputs": [],
   "source": [
    "import pandas as pd\n",
    "import numpy as np\n",
    "import matplotlib.pyplot as plt\n",
    "from sklearn.model_selection import train_test_split\n",
    "# from sklearn.ensemble import RandomForestRegressor\n",
    "# from sklearn import metrics"
   ]
  },
  {
   "cell_type": "code",
   "execution_count": 2,
   "id": "41fc3ea8",
   "metadata": {},
   "outputs": [],
   "source": [
    "df=pd.read_csv(\"tcs.csv\")"
   ]
  },
  {
   "cell_type": "code",
   "execution_count": 3,
   "id": "738d45b9",
   "metadata": {},
   "outputs": [
    {
     "data": {
      "text/html": [
       "<div>\n",
       "<style scoped>\n",
       "    .dataframe tbody tr th:only-of-type {\n",
       "        vertical-align: middle;\n",
       "    }\n",
       "\n",
       "    .dataframe tbody tr th {\n",
       "        vertical-align: top;\n",
       "    }\n",
       "\n",
       "    .dataframe thead th {\n",
       "        text-align: right;\n",
       "    }\n",
       "</style>\n",
       "<table border=\"1\" class=\"dataframe\">\n",
       "  <thead>\n",
       "    <tr style=\"text-align: right;\">\n",
       "      <th></th>\n",
       "      <th>Date</th>\n",
       "      <th>Open</th>\n",
       "      <th>High</th>\n",
       "      <th>Low</th>\n",
       "      <th>Close</th>\n",
       "      <th>Adj Close</th>\n",
       "      <th>Volume</th>\n",
       "    </tr>\n",
       "  </thead>\n",
       "  <tbody>\n",
       "    <tr>\n",
       "      <th>0</th>\n",
       "      <td>01-01-2015</td>\n",
       "      <td>1283.500000</td>\n",
       "      <td>1283.500000</td>\n",
       "      <td>1270.500000</td>\n",
       "      <td>1272.775024</td>\n",
       "      <td>1114.909302</td>\n",
       "      <td>366830.0</td>\n",
       "    </tr>\n",
       "    <tr>\n",
       "      <th>1</th>\n",
       "      <td>02-01-2015</td>\n",
       "      <td>1275.500000</td>\n",
       "      <td>1295.474976</td>\n",
       "      <td>1275.300049</td>\n",
       "      <td>1289.724976</td>\n",
       "      <td>1129.757202</td>\n",
       "      <td>925740.0</td>\n",
       "    </tr>\n",
       "    <tr>\n",
       "      <th>2</th>\n",
       "      <td>05-01-2015</td>\n",
       "      <td>1290.500000</td>\n",
       "      <td>1299.949951</td>\n",
       "      <td>1262.324951</td>\n",
       "      <td>1270.125000</td>\n",
       "      <td>1112.587769</td>\n",
       "      <td>1754242.0</td>\n",
       "    </tr>\n",
       "    <tr>\n",
       "      <th>3</th>\n",
       "      <td>06-01-2015</td>\n",
       "      <td>1264.550049</td>\n",
       "      <td>1264.550049</td>\n",
       "      <td>1220.000000</td>\n",
       "      <td>1223.300049</td>\n",
       "      <td>1071.570801</td>\n",
       "      <td>2423784.0</td>\n",
       "    </tr>\n",
       "    <tr>\n",
       "      <th>4</th>\n",
       "      <td>07-01-2015</td>\n",
       "      <td>1235.000000</td>\n",
       "      <td>1239.574951</td>\n",
       "      <td>1203.724976</td>\n",
       "      <td>1208.849976</td>\n",
       "      <td>1058.912842</td>\n",
       "      <td>2636332.0</td>\n",
       "    </tr>\n",
       "  </tbody>\n",
       "</table>\n",
       "</div>"
      ],
      "text/plain": [
       "         Date         Open         High          Low        Close  \\\n",
       "0  01-01-2015  1283.500000  1283.500000  1270.500000  1272.775024   \n",
       "1  02-01-2015  1275.500000  1295.474976  1275.300049  1289.724976   \n",
       "2  05-01-2015  1290.500000  1299.949951  1262.324951  1270.125000   \n",
       "3  06-01-2015  1264.550049  1264.550049  1220.000000  1223.300049   \n",
       "4  07-01-2015  1235.000000  1239.574951  1203.724976  1208.849976   \n",
       "\n",
       "     Adj Close     Volume  \n",
       "0  1114.909302   366830.0  \n",
       "1  1129.757202   925740.0  \n",
       "2  1112.587769  1754242.0  \n",
       "3  1071.570801  2423784.0  \n",
       "4  1058.912842  2636332.0  "
      ]
     },
     "execution_count": 3,
     "metadata": {},
     "output_type": "execute_result"
    }
   ],
   "source": [
    "df.head(5)"
   ]
  },
  {
   "cell_type": "code",
   "execution_count": 4,
   "id": "6cf83858",
   "metadata": {},
   "outputs": [
    {
     "name": "stdout",
     "output_type": "stream",
     "text": [
      "<class 'pandas.core.frame.DataFrame'>\n",
      "RangeIndex: 1666 entries, 0 to 1665\n",
      "Data columns (total 7 columns):\n",
      " #   Column     Non-Null Count  Dtype  \n",
      "---  ------     --------------  -----  \n",
      " 0   Date       1666 non-null   object \n",
      " 1   Open       1663 non-null   float64\n",
      " 2   High       1663 non-null   float64\n",
      " 3   Low        1663 non-null   float64\n",
      " 4   Close      1663 non-null   float64\n",
      " 5   Adj Close  1663 non-null   float64\n",
      " 6   Volume     1663 non-null   float64\n",
      "dtypes: float64(6), object(1)\n",
      "memory usage: 91.2+ KB\n"
     ]
    }
   ],
   "source": [
    "df.info()"
   ]
  },
  {
   "cell_type": "code",
   "execution_count": 5,
   "id": "55b2126a",
   "metadata": {},
   "outputs": [
    {
     "data": {
      "text/plain": [
       "Date         0\n",
       "Open         3\n",
       "High         3\n",
       "Low          3\n",
       "Close        3\n",
       "Adj Close    3\n",
       "Volume       3\n",
       "dtype: int64"
      ]
     },
     "execution_count": 5,
     "metadata": {},
     "output_type": "execute_result"
    }
   ],
   "source": [
    "df.isnull().sum()"
   ]
  },
  {
   "cell_type": "code",
   "execution_count": 6,
   "id": "5b5a7c41",
   "metadata": {},
   "outputs": [],
   "source": [
    "df.fillna(0,inplace=True)"
   ]
  },
  {
   "cell_type": "code",
   "execution_count": 7,
   "id": "17b73c28",
   "metadata": {},
   "outputs": [
    {
     "data": {
      "text/plain": [
       "Date         0\n",
       "Open         0\n",
       "High         0\n",
       "Low          0\n",
       "Close        0\n",
       "Adj Close    0\n",
       "Volume       0\n",
       "dtype: int64"
      ]
     },
     "execution_count": 7,
     "metadata": {},
     "output_type": "execute_result"
    }
   ],
   "source": [
    "df.isnull().sum()"
   ]
  },
  {
   "cell_type": "code",
   "execution_count": 8,
   "id": "ec7d1754",
   "metadata": {},
   "outputs": [
    {
     "data": {
      "text/html": [
       "<div>\n",
       "<style scoped>\n",
       "    .dataframe tbody tr th:only-of-type {\n",
       "        vertical-align: middle;\n",
       "    }\n",
       "\n",
       "    .dataframe tbody tr th {\n",
       "        vertical-align: top;\n",
       "    }\n",
       "\n",
       "    .dataframe thead th {\n",
       "        text-align: right;\n",
       "    }\n",
       "</style>\n",
       "<table border=\"1\" class=\"dataframe\">\n",
       "  <thead>\n",
       "    <tr style=\"text-align: right;\">\n",
       "      <th></th>\n",
       "      <th>Open</th>\n",
       "      <th>High</th>\n",
       "      <th>Low</th>\n",
       "      <th>Close</th>\n",
       "      <th>Adj Close</th>\n",
       "      <th>Volume</th>\n",
       "    </tr>\n",
       "  </thead>\n",
       "  <tbody>\n",
       "    <tr>\n",
       "      <th>count</th>\n",
       "      <td>1666.000000</td>\n",
       "      <td>1666.000000</td>\n",
       "      <td>1666.000000</td>\n",
       "      <td>1666.000000</td>\n",
       "      <td>1666.000000</td>\n",
       "      <td>1.666000e+03</td>\n",
       "    </tr>\n",
       "    <tr>\n",
       "      <th>mean</th>\n",
       "      <td>1822.739434</td>\n",
       "      <td>1841.918138</td>\n",
       "      <td>1802.373129</td>\n",
       "      <td>1821.939677</td>\n",
       "      <td>1730.117326</td>\n",
       "      <td>2.866134e+06</td>\n",
       "    </tr>\n",
       "    <tr>\n",
       "      <th>std</th>\n",
       "      <td>683.051810</td>\n",
       "      <td>690.147652</td>\n",
       "      <td>675.849203</td>\n",
       "      <td>682.780603</td>\n",
       "      <td>717.831032</td>\n",
       "      <td>2.752846e+06</td>\n",
       "    </tr>\n",
       "    <tr>\n",
       "      <th>min</th>\n",
       "      <td>0.000000</td>\n",
       "      <td>0.000000</td>\n",
       "      <td>0.000000</td>\n",
       "      <td>0.000000</td>\n",
       "      <td>0.000000</td>\n",
       "      <td>0.000000e+00</td>\n",
       "    </tr>\n",
       "    <tr>\n",
       "      <th>25%</th>\n",
       "      <td>1255.500000</td>\n",
       "      <td>1265.000000</td>\n",
       "      <td>1243.000000</td>\n",
       "      <td>1253.924988</td>\n",
       "      <td>1129.781647</td>\n",
       "      <td>1.731495e+06</td>\n",
       "    </tr>\n",
       "    <tr>\n",
       "      <th>50%</th>\n",
       "      <td>1724.000000</td>\n",
       "      <td>1749.000000</td>\n",
       "      <td>1699.674988</td>\n",
       "      <td>1721.099976</td>\n",
       "      <td>1618.729431</td>\n",
       "      <td>2.400639e+06</td>\n",
       "    </tr>\n",
       "    <tr>\n",
       "      <th>75%</th>\n",
       "      <td>2167.250000</td>\n",
       "      <td>2189.400086</td>\n",
       "      <td>2145.012574</td>\n",
       "      <td>2164.487488</td>\n",
       "      <td>2078.331482</td>\n",
       "      <td>3.324693e+06</td>\n",
       "    </tr>\n",
       "    <tr>\n",
       "      <th>max</th>\n",
       "      <td>3930.000000</td>\n",
       "      <td>3981.750000</td>\n",
       "      <td>3892.100098</td>\n",
       "      <td>3954.550049</td>\n",
       "      <td>3954.550049</td>\n",
       "      <td>8.806715e+07</td>\n",
       "    </tr>\n",
       "  </tbody>\n",
       "</table>\n",
       "</div>"
      ],
      "text/plain": [
       "              Open         High          Low        Close    Adj Close  \\\n",
       "count  1666.000000  1666.000000  1666.000000  1666.000000  1666.000000   \n",
       "mean   1822.739434  1841.918138  1802.373129  1821.939677  1730.117326   \n",
       "std     683.051810   690.147652   675.849203   682.780603   717.831032   \n",
       "min       0.000000     0.000000     0.000000     0.000000     0.000000   \n",
       "25%    1255.500000  1265.000000  1243.000000  1253.924988  1129.781647   \n",
       "50%    1724.000000  1749.000000  1699.674988  1721.099976  1618.729431   \n",
       "75%    2167.250000  2189.400086  2145.012574  2164.487488  2078.331482   \n",
       "max    3930.000000  3981.750000  3892.100098  3954.550049  3954.550049   \n",
       "\n",
       "             Volume  \n",
       "count  1.666000e+03  \n",
       "mean   2.866134e+06  \n",
       "std    2.752846e+06  \n",
       "min    0.000000e+00  \n",
       "25%    1.731495e+06  \n",
       "50%    2.400639e+06  \n",
       "75%    3.324693e+06  \n",
       "max    8.806715e+07  "
      ]
     },
     "execution_count": 8,
     "metadata": {},
     "output_type": "execute_result"
    }
   ],
   "source": [
    "df.describe()"
   ]
  },
  {
   "cell_type": "code",
   "execution_count": 9,
   "id": "42b99545",
   "metadata": {},
   "outputs": [
    {
     "data": {
      "text/plain": [
       "(1666, 7)"
      ]
     },
     "execution_count": 9,
     "metadata": {},
     "output_type": "execute_result"
    }
   ],
   "source": [
    "df.shape"
   ]
  },
  {
   "cell_type": "code",
   "execution_count": 10,
   "id": "2fd4ee1e",
   "metadata": {},
   "outputs": [
    {
     "data": {
      "text/plain": [
       "(1666,)"
      ]
     },
     "execution_count": 10,
     "metadata": {},
     "output_type": "execute_result"
    }
   ],
   "source": [
    "df1=df.reset_index()[\"Close\"]\n",
    "df1.shape"
   ]
  },
  {
   "cell_type": "code",
   "execution_count": 11,
   "id": "c3ab6e83",
   "metadata": {},
   "outputs": [
    {
     "data": {
      "text/plain": [
       "0       1272.775024\n",
       "1       1289.724976\n",
       "2       1270.125000\n",
       "3       1223.300049\n",
       "4       1208.849976\n",
       "           ...     \n",
       "1661    3871.300049\n",
       "1662    3836.949951\n",
       "1663    3779.149902\n",
       "1664    3791.899902\n",
       "1665    3775.550049\n",
       "Name: Close, Length: 1666, dtype: float64"
      ]
     },
     "execution_count": 11,
     "metadata": {},
     "output_type": "execute_result"
    }
   ],
   "source": [
    "df1"
   ]
  },
  {
   "cell_type": "code",
   "execution_count": 12,
   "id": "4af587cc",
   "metadata": {},
   "outputs": [
    {
     "data": {
      "text/plain": [
       "[<matplotlib.lines.Line2D at 0x1b3b205f150>]"
      ]
     },
     "execution_count": 12,
     "metadata": {},
     "output_type": "execute_result"
    },
    {
     "data": {
      "image/png": "[encoded data removed]",
      "text/plain": [
       "<Figure size 640x480 with 1 Axes>"
      ]
     },
     "metadata": {},
     "output_type": "display_data"
    }
   ],
   "source": [
    "# Visualise the \"Close\" data \n",
    "plt.plot(df1)"
   ]
  },
  {
   "cell_type": "code",
   "execution_count": 13,
   "id": "7b7542e2",
   "metadata": {},
   "outputs": [],
   "source": [
    "# We use LSTM Model and it is very sensitive to scale the data\n",
    "# so we use MinMaxScaler\n",
    "from sklearn.preprocessing import MinMaxScaler"
   ]
  },
  {
   "cell_type": "code",
   "execution_count": 14,
   "id": "c9111eb4",
   "metadata": {},
   "outputs": [],
   "source": [
    "scaler=MinMaxScaler(feature_range=(0,1))\n",
    "                "
   ]
  },
  {
   "cell_type": "code",
   "execution_count": 15,
   "id": "6886f31a",
   "metadata": {},
   "outputs": [
    {
     "data": {
      "text/html": [
       "<style>#sk-container-id-1 {color: black;background-color: white;}#sk-container-id-1 pre{padding: 0;}#sk-container-id-1 div.sk-toggleable {background-color: white;}#sk-container-id-1 label.sk-toggleable__label {cursor: pointer;display: block;width: 100%;margin-bottom: 0;padding: 0.3em;box-sizing: border-box;text-align: center;}#sk-container-id-1 label.sk-toggleable__label-arrow:before {content: \"▸\";float: left;margin-right: 0.25em;color: #696969;}#sk-container-id-1 label.sk-toggleable__label-arrow:hover:before {color: black;}#sk-container-id-1 div.sk-estimator:hover label.sk-toggleable__label-arrow:before {color: black;}#sk-container-id-1 div.sk-toggleable__content {max-height: 0;max-width: 0;overflow: hidden;text-align: left;background-color: #f0f8ff;}#sk-container-id-1 div.sk-toggleable__content pre {margin: 0.2em;color: black;border-radius: 0.25em;background-color: #f0f8ff;}#sk-container-id-1 input.sk-toggleable__control:checked~div.sk-toggleable__content {max-height: 200px;max-width: 100%;overflow: auto;}#sk-container-id-1 input.sk-toggleable__control:checked~label.sk-toggleable__label-arrow:before {content: \"▾\";}#sk-container-id-1 div.sk-estimator input.sk-toggleable__control:checked~label.sk-toggleable__label {background-color: #d4ebff;}#sk-container-id-1 div.sk-label input.sk-toggleable__control:checked~label.sk-toggleable__label {background-color: #d4ebff;}#sk-container-id-1 input.sk-hidden--visually {border: 0;clip: rect(1px 1px 1px 1px);clip: rect(1px, 1px, 1px, 1px);height: 1px;margin: -1px;overflow: hidden;padding: 0;position: absolute;width: 1px;}#sk-container-id-1 div.sk-estimator {font-family: monospace;background-color: #f0f8ff;border: 1px dotted black;border-radius: 0.25em;box-sizing: border-box;margin-bottom: 0.5em;}#sk-container-id-1 div.sk-estimator:hover {background-color: #d4ebff;}#sk-container-id-1 div.sk-parallel-item::after {content: \"\";width: 100%;border-bottom: 1px solid gray;flex-grow: 1;}#sk-container-id-1 div.sk-label:hover label.sk-toggleable__label {background-color: #d4ebff;}#sk-container-id-1 div.sk-serial::before {content: \"\";position: absolute;border-left: 1px solid gray;box-sizing: border-box;top: 0;bottom: 0;left: 50%;z-index: 0;}#sk-container-id-1 div.sk-serial {display: flex;flex-direction: column;align-items: center;background-color: white;padding-right: 0.2em;padding-left: 0.2em;position: relative;}#sk-container-id-1 div.sk-item {position: relative;z-index: 1;}#sk-container-id-1 div.sk-parallel {display: flex;align-items: stretch;justify-content: center;background-color: white;position: relative;}#sk-container-id-1 div.sk-item::before, #sk-container-id-1 div.sk-parallel-item::before {content: \"\";position: absolute;border-left: 1px solid gray;box-sizing: border-box;top: 0;bottom: 0;left: 50%;z-index: -1;}#sk-container-id-1 div.sk-parallel-item {display: flex;flex-direction: column;z-index: 1;position: relative;background-color: white;}#sk-container-id-1 div.sk-parallel-item:first-child::after {align-self: flex-end;width: 50%;}#sk-container-id-1 div.sk-parallel-item:last-child::after {align-self: flex-start;width: 50%;}#sk-container-id-1 div.sk-parallel-item:only-child::after {width: 0;}#sk-container-id-1 div.sk-dashed-wrapped {border: 1px dashed gray;margin: 0 0.4em 0.5em 0.4em;box-sizing: border-box;padding-bottom: 0.4em;background-color: white;}#sk-container-id-1 div.sk-label label {font-family: monospace;font-weight: bold;display: inline-block;line-height: 1.2em;}#sk-container-id-1 div.sk-label-container {text-align: center;}#sk-container-id-1 div.sk-container {/* jupyter's `normalize.less` sets `[hidden] { display: none; }` but bootstrap.min.css set `[hidden] { display: none !important; }` so we also need the `!important` here to be able to override the default hidden behavior on the sphinx rendered scikit-learn.org. See: https://github.com/scikit-learn/scikit-learn/issues/21755 */display: inline-block !important;position: relative;}#sk-container-id-1 div.sk-text-repr-fallback {display: none;}</style><div id=\"sk-container-id-1\" class=\"sk-top-container\"><div class=\"sk-text-repr-fallback\"><pre>MinMaxScaler()</pre><b>In a Jupyter environment, please rerun this cell to show the HTML representation or trust the notebook. <br />On GitHub, the HTML representation is unable to render, please try loading this page with nbviewer.org.</b></div><div class=\"sk-container\" hidden><div class=\"sk-item\"><div class=\"sk-estimator sk-toggleable\"><input class=\"sk-toggleable__control sk-hidden--visually\" id=\"sk-estimator-id-1\" type=\"checkbox\" checked><label for=\"sk-estimator-id-1\" class=\"sk-toggleable__label sk-toggleable__label-arrow\">MinMaxScaler</label><div class=\"sk-toggleable__content\"><pre>MinMaxScaler()</pre></div></div></div></div></div>"
      ],
      "text/plain": [
       "MinMaxScaler()"
      ]
     },
     "execution_count": 15,
     "metadata": {},
     "output_type": "execute_result"
    }
   ],
   "source": [
    "scaler"
   ]
  },
  {
   "cell_type": "code",
   "execution_count": 16,
   "id": "996288e2",
   "metadata": {},
   "outputs": [],
   "source": [
    "df1=scaler.fit_transform(np.array(df1).reshape(-1,1))"
   ]
  },
  {
   "cell_type": "code",
   "execution_count": 17,
   "id": "61af8acc",
   "metadata": {},
   "outputs": [
    {
     "data": {
      "text/plain": [
       "(1666, 1)"
      ]
     },
     "execution_count": 17,
     "metadata": {},
     "output_type": "execute_result"
    }
   ],
   "source": [
    "df1.shape"
   ]
  },
  {
   "cell_type": "code",
   "execution_count": 18,
   "id": "2ba85c2d",
   "metadata": {},
   "outputs": [
    {
     "name": "stdout",
     "output_type": "stream",
     "text": [
      "[[0.32185078]\n",
      " [0.32613697]\n",
      " [0.32118066]\n",
      " ...\n",
      " [0.95564599]\n",
      " [0.95887013]\n",
      " [0.95473568]]\n"
     ]
    }
   ],
   "source": [
    "print(df1)"
   ]
  },
  {
   "cell_type": "code",
   "execution_count": 19,
   "id": "0e9d93b4",
   "metadata": {},
   "outputs": [],
   "source": [
    "# Spliting the data set into train and test\n",
    "training_size=int(len(df1)*0.65) \n",
    "testing_size=len(df1)-training_size\n",
    "\n",
    "# Size of Both Data sets\n",
    "training_size,testing_size\n",
    "\n",
    "train_data,test_data=df1[0:training_size:],df1[training_size::]"
   ]
  },
  {
   "cell_type": "code",
   "execution_count": 20,
   "id": "fe528b5f",
   "metadata": {},
   "outputs": [
    {
     "data": {
      "text/plain": [
       "1082"
      ]
     },
     "execution_count": 20,
     "metadata": {},
     "output_type": "execute_result"
    }
   ],
   "source": [
    "training_size"
   ]
  },
  {
   "cell_type": "code",
   "execution_count": 21,
   "id": "655dea70",
   "metadata": {},
   "outputs": [
    {
     "data": {
      "text/plain": [
       "584"
      ]
     },
     "execution_count": 21,
     "metadata": {},
     "output_type": "execute_result"
    }
   ],
   "source": [
    "testing_size"
   ]
  },
  {
   "cell_type": "code",
   "execution_count": 22,
   "id": "b235892c",
   "metadata": {},
   "outputs": [],
   "source": [
    "# Convert an array of value into a dataset matrix\n",
    "def create_dataset(dataset, time_step=1):\n",
    "    datax,datay=[],[]\n",
    "    for i in range(len(dataset)-time_step-1):\n",
    "        a=dataset[i:(i+time_step),0]\n",
    "        datax.append(a)\n",
    "        datay.append(dataset[i+time_step,0])\n",
    "    return np.array(datax),np.array(datay)"
   ]
  },
  {
   "cell_type": "code",
   "execution_count": 23,
   "id": "ea1398f2",
   "metadata": {},
   "outputs": [],
   "source": [
    "# Reshape into x=t,t+1,t+2,t+3 and y=t+4\n",
    "time_step=100\n",
    "\n",
    "x_train,y_train=create_dataset(train_data,time_step)\n",
    "x_test,y_test=create_dataset(test_data,time_step)\n"
   ]
  },
  {
   "cell_type": "code",
   "execution_count": 24,
   "id": "f0f2ac82",
   "metadata": {},
   "outputs": [
    {
     "name": "stdout",
     "output_type": "stream",
     "text": [
      "[[0.32185078 0.32613697 0.32118066 ... 0.32985423 0.33066341 0.3299364 ]\n",
      " [0.32613697 0.32118066 0.30933988 ... 0.33066341 0.3299364  0.33003755]\n",
      " [0.32118066 0.30933988 0.30568585 ... 0.3299364  0.33003755 0.3309795 ]\n",
      " ...\n",
      " [0.50267412 0.49776837 0.49412702 ... 0.52987062 0.53324651 0.52988328]\n",
      " [0.49776837 0.49412702 0.47939716 ... 0.53324651 0.52988328 0.54214763]\n",
      " [0.49412702 0.47939716 0.48513737 ... 0.52988328 0.54214763 0.53349938]]\n"
     ]
    }
   ],
   "source": [
    "print(x_train)"
   ]
  },
  {
   "cell_type": "code",
   "execution_count": 25,
   "id": "772d4ba7",
   "metadata": {},
   "outputs": [
    {
     "data": {
      "text/plain": [
       "((483, 100), (483,))"
      ]
     },
     "execution_count": 25,
     "metadata": {},
     "output_type": "execute_result"
    }
   ],
   "source": [
    "x_test.shape,y_test.shape"
   ]
  },
  {
   "cell_type": "code",
   "execution_count": 26,
   "id": "121d89ba",
   "metadata": {},
   "outputs": [],
   "source": [
    "# Reshape the input to be [samples,time_steps,features] which is required for LSTM\n",
    "\n",
    "x_train=x_train.reshape(x_train.shape[0],x_train.shape[1],1)\n",
    "x_test=x_test.reshape(x_test.shape[0],x_test.shape[1],1)\n"
   ]
  },
  {
   "cell_type": "code",
   "execution_count": 28,
   "id": "e42ed952",
   "metadata": {},
   "outputs": [],
   "source": [
    "from tensorflow.keras.models import Sequential\n",
    "from tensorflow.keras.layers import Dense\n",
    "from tensorflow.keras.layers import LSTM"
   ]
  },
  {
   "cell_type": "code",
   "execution_count": 29,
   "id": "3f689f6e",
   "metadata": {},
   "outputs": [],
   "source": [
    "model=Sequential()\n",
    "model.add(LSTM(50,return_sequences=True,input_shape=(100,1)))\n",
    "model.add(LSTM(50,return_sequences=True))\n",
    "model.add(LSTM(50))\n",
    "model.add(Dense(1))\n",
    "model.compile(loss='mean_squared_error',optimizer='adam')"
   ]
  },
  {
   "cell_type": "code",
   "execution_count": 30,
   "id": "6427c3df",
   "metadata": {},
   "outputs": [
    {
     "name": "stdout",
     "output_type": "stream",
     "text": [
      "Model: \"sequential\"\n",
      "_________________________________________________________________\n",
      " Layer (type)                Output Shape              Param #   \n",
      "=================================================================\n",
      " lstm (LSTM)                 (None, 100, 50)           10400     \n",
      "                                                                 \n",
      " lstm_1 (LSTM)               (None, 100, 50)           20200     \n",
      "                                                                 \n",
      " lstm_2 (LSTM)               (None, 50)                20200     \n",
      "                                                                 \n",
      " dense (Dense)               (None, 1)                 51        \n",
      "                                                                 \n",
      "=================================================================\n",
      "Total params: 50,851\n",
      "Trainable params: 50,851\n",
      "Non-trainable params: 0\n",
      "_________________________________________________________________\n"
     ]
    }
   ],
   "source": [
    "model.summary()"
   ]
  },
  {
   "cell_type": "code",
   "execution_count": 31,
   "id": "56f681fb",
   "metadata": {},
   "outputs": [
    {
     "data": {
      "text/plain": [
       "array([[[0.32185078],\n",
       "        [0.32613697],\n",
       "        [0.32118066],\n",
       "        ...,\n",
       "        [0.32985423],\n",
       "        [0.33066341],\n",
       "        [0.3299364 ]],\n",
       "\n",
       "       [[0.32613697],\n",
       "        [0.32118066],\n",
       "        [0.30933988],\n",
       "        ...,\n",
       "        [0.33066341],\n",
       "        [0.3299364 ],\n",
       "        [0.33003755]],\n",
       "\n",
       "       [[0.32118066],\n",
       "        [0.30933988],\n",
       "        [0.30568585],\n",
       "        ...,\n",
       "        [0.3299364 ],\n",
       "        [0.33003755],\n",
       "        [0.3309795 ]],\n",
       "\n",
       "       ...,\n",
       "\n",
       "       [[0.32985423],\n",
       "        [0.33066341],\n",
       "        [0.3299364 ],\n",
       "        ...,\n",
       "        [0.32855192],\n",
       "        [0.31403066],\n",
       "        [0.31201401]],\n",
       "\n",
       "       [[0.33066341],\n",
       "        [0.3299364 ],\n",
       "        [0.33003755],\n",
       "        ...,\n",
       "        [0.31403066],\n",
       "        [0.31201401],\n",
       "        [0.31255136]],\n",
       "\n",
       "       [[0.3299364 ],\n",
       "        [0.33003755],\n",
       "        [0.3309795 ],\n",
       "        ...,\n",
       "        [0.31201401],\n",
       "        [0.31255136],\n",
       "        [0.31466917]]])"
      ]
     },
     "execution_count": 31,
     "metadata": {},
     "output_type": "execute_result"
    }
   ],
   "source": [
    "x_train[:100]"
   ]
  },
  {
   "cell_type": "code",
   "execution_count": 32,
   "id": "9bb4c5b2",
   "metadata": {},
   "outputs": [
    {
     "name": "stdout",
     "output_type": "stream",
     "text": [
      "Epoch 1/100\n",
      "16/16 [==============================] - 30s 720ms/step - loss: 0.0276 - val_loss: 0.0609\n",
      "Epoch 2/100\n",
      "16/16 [==============================] - 6s 379ms/step - loss: 0.0026 - val_loss: 0.0300\n",
      "Epoch 3/100\n",
      "16/16 [==============================] - 5s 333ms/step - loss: 0.0015 - val_loss: 0.0176\n",
      "Epoch 4/100\n",
      "16/16 [==============================] - 5s 326ms/step - loss: 9.7167e-04 - val_loss: 0.0102\n",
      "Epoch 5/100\n",
      "16/16 [==============================] - 5s 327ms/step - loss: 6.2463e-04 - val_loss: 0.0073\n",
      "Epoch 6/100\n",
      "16/16 [==============================] - 5s 328ms/step - loss: 3.8989e-04 - val_loss: 0.0040\n",
      "Epoch 7/100\n",
      "16/16 [==============================] - 5s 325ms/step - loss: 2.8241e-04 - val_loss: 0.0027\n",
      "Epoch 8/100\n",
      "16/16 [==============================] - 5s 317ms/step - loss: 2.5382e-04 - val_loss: 0.0027\n",
      "Epoch 9/100\n",
      "16/16 [==============================] - 5s 322ms/step - loss: 2.6281e-04 - val_loss: 0.0027\n",
      "Epoch 10/100\n",
      "16/16 [==============================] - 5s 320ms/step - loss: 2.6557e-04 - val_loss: 0.0026\n",
      "Epoch 11/100\n",
      "16/16 [==============================] - 5s 321ms/step - loss: 2.6278e-04 - val_loss: 0.0026\n",
      "Epoch 12/100\n",
      "16/16 [==============================] - 5s 321ms/step - loss: 2.5339e-04 - val_loss: 0.0026\n",
      "Epoch 13/100\n",
      "16/16 [==============================] - 5s 319ms/step - loss: 2.5147e-04 - val_loss: 0.0026\n",
      "Epoch 14/100\n",
      "16/16 [==============================] - 5s 319ms/step - loss: 2.4882e-04 - val_loss: 0.0026\n",
      "Epoch 15/100\n",
      "16/16 [==============================] - 5s 323ms/step - loss: 2.5413e-04 - val_loss: 0.0026\n",
      "Epoch 16/100\n",
      "16/16 [==============================] - 5s 326ms/step - loss: 2.4713e-04 - val_loss: 0.0026\n",
      "Epoch 17/100\n",
      "16/16 [==============================] - 5s 328ms/step - loss: 2.4785e-04 - val_loss: 0.0026\n",
      "Epoch 18/100\n",
      "16/16 [==============================] - 5s 322ms/step - loss: 2.5037e-04 - val_loss: 0.0026\n",
      "Epoch 19/100\n",
      "16/16 [==============================] - 5s 324ms/step - loss: 2.6768e-04 - val_loss: 0.0026\n",
      "Epoch 20/100\n",
      "16/16 [==============================] - 5s 328ms/step - loss: 2.4791e-04 - val_loss: 0.0026\n",
      "Epoch 21/100\n",
      "16/16 [==============================] - 6s 347ms/step - loss: 2.4292e-04 - val_loss: 0.0026\n",
      "Epoch 22/100\n",
      "16/16 [==============================] - 5s 328ms/step - loss: 2.5268e-04 - val_loss: 0.0026\n",
      "Epoch 23/100\n",
      "16/16 [==============================] - 5s 329ms/step - loss: 2.5276e-04 - val_loss: 0.0026\n",
      "Epoch 24/100\n",
      "16/16 [==============================] - 5s 329ms/step - loss: 2.4702e-04 - val_loss: 0.0027\n",
      "Epoch 25/100\n",
      "16/16 [==============================] - 5s 325ms/step - loss: 2.5541e-04 - val_loss: 0.0030\n",
      "Epoch 26/100\n",
      "16/16 [==============================] - 5s 329ms/step - loss: 2.5200e-04 - val_loss: 0.0026\n",
      "Epoch 27/100\n",
      "16/16 [==============================] - 5s 321ms/step - loss: 2.4050e-04 - val_loss: 0.0027\n",
      "Epoch 28/100\n",
      "16/16 [==============================] - 5s 320ms/step - loss: 2.4769e-04 - val_loss: 0.0027\n",
      "Epoch 29/100\n",
      "16/16 [==============================] - 5s 316ms/step - loss: 2.7117e-04 - val_loss: 0.0026\n",
      "Epoch 30/100\n",
      "16/16 [==============================] - 5s 317ms/step - loss: 2.4760e-04 - val_loss: 0.0025\n",
      "Epoch 31/100\n",
      "16/16 [==============================] - 5s 315ms/step - loss: 2.4615e-04 - val_loss: 0.0025\n",
      "Epoch 32/100\n",
      "16/16 [==============================] - 5s 316ms/step - loss: 2.2733e-04 - val_loss: 0.0025\n",
      "Epoch 33/100\n",
      "16/16 [==============================] - 5s 315ms/step - loss: 2.3822e-04 - val_loss: 0.0025\n",
      "Epoch 34/100\n",
      "16/16 [==============================] - 5s 315ms/step - loss: 2.2910e-04 - val_loss: 0.0025\n",
      "Epoch 35/100\n",
      "16/16 [==============================] - 5s 317ms/step - loss: 2.2911e-04 - val_loss: 0.0025\n",
      "Epoch 36/100\n",
      "16/16 [==============================] - 5s 316ms/step - loss: 2.3618e-04 - val_loss: 0.0025\n",
      "Epoch 37/100\n",
      "16/16 [==============================] - 5s 317ms/step - loss: 2.2418e-04 - val_loss: 0.0025\n",
      "Epoch 38/100\n",
      "16/16 [==============================] - 5s 319ms/step - loss: 2.2280e-04 - val_loss: 0.0025\n",
      "Epoch 39/100\n",
      "16/16 [==============================] - 5s 314ms/step - loss: 2.3280e-04 - val_loss: 0.0025\n",
      "Epoch 40/100\n",
      "16/16 [==============================] - 5s 317ms/step - loss: 2.1540e-04 - val_loss: 0.0025\n",
      "Epoch 41/100\n",
      "16/16 [==============================] - 5s 332ms/step - loss: 2.1367e-04 - val_loss: 0.0025\n",
      "Epoch 42/100\n",
      "16/16 [==============================] - 5s 318ms/step - loss: 2.3457e-04 - val_loss: 0.0025\n",
      "Epoch 43/100\n",
      "16/16 [==============================] - 5s 318ms/step - loss: 2.2221e-04 - val_loss: 0.0024\n",
      "Epoch 44/100\n",
      "16/16 [==============================] - 5s 320ms/step - loss: 2.3117e-04 - val_loss: 0.0025\n",
      "Epoch 45/100\n",
      "16/16 [==============================] - 5s 317ms/step - loss: 2.3110e-04 - val_loss: 0.0025\n",
      "Epoch 46/100\n",
      "16/16 [==============================] - 5s 317ms/step - loss: 2.1329e-04 - val_loss: 0.0025\n",
      "Epoch 47/100\n",
      "16/16 [==============================] - 5s 315ms/step - loss: 2.1235e-04 - val_loss: 0.0025\n",
      "Epoch 48/100\n",
      "16/16 [==============================] - 5s 316ms/step - loss: 2.1760e-04 - val_loss: 0.0026\n",
      "Epoch 49/100\n",
      "16/16 [==============================] - 5s 316ms/step - loss: 2.7640e-04 - val_loss: 0.0024\n",
      "Epoch 50/100\n",
      "16/16 [==============================] - 5s 314ms/step - loss: 2.0924e-04 - val_loss: 0.0025\n",
      "Epoch 51/100\n",
      "16/16 [==============================] - 5s 315ms/step - loss: 2.0876e-04 - val_loss: 0.0023\n",
      "Epoch 52/100\n",
      "16/16 [==============================] - 5s 314ms/step - loss: 2.2273e-04 - val_loss: 0.0025\n",
      "Epoch 53/100\n",
      "16/16 [==============================] - 5s 317ms/step - loss: 2.0130e-04 - val_loss: 0.0025\n",
      "Epoch 54/100\n",
      "16/16 [==============================] - 5s 317ms/step - loss: 2.0767e-04 - val_loss: 0.0026\n",
      "Epoch 55/100\n",
      "16/16 [==============================] - 5s 315ms/step - loss: 2.1931e-04 - val_loss: 0.0023\n",
      "Epoch 56/100\n",
      "16/16 [==============================] - 5s 316ms/step - loss: 2.0095e-04 - val_loss: 0.0023\n",
      "Epoch 57/100\n",
      "16/16 [==============================] - 5s 337ms/step - loss: 1.9287e-04 - val_loss: 0.0025\n",
      "Epoch 58/100\n",
      "16/16 [==============================] - 5s 329ms/step - loss: 2.0693e-04 - val_loss: 0.0023\n",
      "Epoch 59/100\n",
      "16/16 [==============================] - 5s 316ms/step - loss: 2.1518e-04 - val_loss: 0.0024\n",
      "Epoch 60/100\n",
      "16/16 [==============================] - 5s 342ms/step - loss: 1.9087e-04 - val_loss: 0.0023\n",
      "Epoch 61/100\n",
      "16/16 [==============================] - 5s 314ms/step - loss: 1.9280e-04 - val_loss: 0.0027\n",
      "Epoch 62/100\n",
      "16/16 [==============================] - 5s 319ms/step - loss: 1.9970e-04 - val_loss: 0.0023\n",
      "Epoch 63/100\n",
      "16/16 [==============================] - 5s 317ms/step - loss: 1.8991e-04 - val_loss: 0.0023\n",
      "Epoch 64/100\n",
      "16/16 [==============================] - 5s 317ms/step - loss: 1.7723e-04 - val_loss: 0.0023\n",
      "Epoch 65/100\n",
      "16/16 [==============================] - 5s 317ms/step - loss: 1.7562e-04 - val_loss: 0.0025\n",
      "Epoch 66/100\n",
      "16/16 [==============================] - 5s 316ms/step - loss: 2.1720e-04 - val_loss: 0.0023\n",
      "Epoch 67/100\n",
      "16/16 [==============================] - 5s 319ms/step - loss: 1.7854e-04 - val_loss: 0.0023\n",
      "Epoch 68/100\n",
      "16/16 [==============================] - 5s 321ms/step - loss: 1.7138e-04 - val_loss: 0.0022\n",
      "Epoch 69/100\n",
      "16/16 [==============================] - 5s 315ms/step - loss: 1.8438e-04 - val_loss: 0.0024\n",
      "Epoch 70/100\n",
      "16/16 [==============================] - 5s 332ms/step - loss: 1.7205e-04 - val_loss: 0.0022\n",
      "Epoch 71/100\n",
      "16/16 [==============================] - 5s 316ms/step - loss: 1.7814e-04 - val_loss: 0.0023\n",
      "Epoch 72/100\n",
      "16/16 [==============================] - 5s 325ms/step - loss: 1.6430e-04 - val_loss: 0.0024\n",
      "Epoch 73/100\n",
      "16/16 [==============================] - 5s 321ms/step - loss: 1.6991e-04 - val_loss: 0.0022\n",
      "Epoch 74/100\n",
      "16/16 [==============================] - 5s 320ms/step - loss: 1.8205e-04 - val_loss: 0.0027\n",
      "Epoch 75/100\n",
      "16/16 [==============================] - 5s 315ms/step - loss: 2.1342e-04 - val_loss: 0.0032\n",
      "Epoch 76/100\n",
      "16/16 [==============================] - 5s 315ms/step - loss: 2.0941e-04 - val_loss: 0.0022\n",
      "Epoch 77/100\n",
      "16/16 [==============================] - 5s 314ms/step - loss: 1.9058e-04 - val_loss: 0.0024\n",
      "Epoch 78/100\n",
      "16/16 [==============================] - 5s 318ms/step - loss: 1.7222e-04 - val_loss: 0.0026\n",
      "Epoch 79/100\n",
      "16/16 [==============================] - 5s 334ms/step - loss: 1.6003e-04 - val_loss: 0.0022\n",
      "Epoch 80/100\n",
      "16/16 [==============================] - 5s 320ms/step - loss: 1.4708e-04 - val_loss: 0.0025\n",
      "Epoch 81/100\n",
      "16/16 [==============================] - 5s 311ms/step - loss: 1.4896e-04 - val_loss: 0.0025\n",
      "Epoch 82/100\n",
      "16/16 [==============================] - 5s 315ms/step - loss: 1.4220e-04 - val_loss: 0.0024\n",
      "Epoch 83/100\n",
      "16/16 [==============================] - 5s 315ms/step - loss: 1.4707e-04 - val_loss: 0.0022\n",
      "Epoch 84/100\n",
      "16/16 [==============================] - 5s 315ms/step - loss: 2.1503e-04 - val_loss: 0.0036\n",
      "Epoch 85/100\n",
      "16/16 [==============================] - 5s 316ms/step - loss: 1.7165e-04 - val_loss: 0.0025\n",
      "Epoch 86/100\n",
      "16/16 [==============================] - 5s 316ms/step - loss: 1.3107e-04 - val_loss: 0.0028\n",
      "Epoch 87/100\n",
      "16/16 [==============================] - 5s 319ms/step - loss: 1.6112e-04 - val_loss: 0.0025\n",
      "Epoch 88/100\n",
      "16/16 [==============================] - 5s 314ms/step - loss: 1.3137e-04 - val_loss: 0.0025\n",
      "Epoch 89/100\n",
      "16/16 [==============================] - 5s 312ms/step - loss: 1.2516e-04 - val_loss: 0.0028\n",
      "Epoch 90/100\n",
      "16/16 [==============================] - 5s 314ms/step - loss: 1.3493e-04 - val_loss: 0.0026\n",
      "Epoch 91/100\n",
      "16/16 [==============================] - 5s 317ms/step - loss: 1.2427e-04 - val_loss: 0.0030\n",
      "Epoch 92/100\n",
      "16/16 [==============================] - 5s 315ms/step - loss: 1.2925e-04 - val_loss: 0.0027\n",
      "Epoch 93/100\n",
      "16/16 [==============================] - 5s 317ms/step - loss: 1.2410e-04 - val_loss: 0.0025\n",
      "Epoch 94/100\n",
      "16/16 [==============================] - 5s 318ms/step - loss: 1.2256e-04 - val_loss: 0.0029\n",
      "Epoch 95/100\n",
      "16/16 [==============================] - 5s 316ms/step - loss: 1.3012e-04 - val_loss: 0.0027\n",
      "Epoch 96/100\n",
      "16/16 [==============================] - 5s 320ms/step - loss: 1.1633e-04 - val_loss: 0.0026\n",
      "Epoch 97/100\n",
      "16/16 [==============================] - 5s 314ms/step - loss: 1.1190e-04 - val_loss: 0.0029\n",
      "Epoch 98/100\n",
      "16/16 [==============================] - 5s 318ms/step - loss: 1.2034e-04 - val_loss: 0.0031\n",
      "Epoch 99/100\n",
      "16/16 [==============================] - 5s 315ms/step - loss: 1.1698e-04 - val_loss: 0.0027\n",
      "Epoch 100/100\n",
      "16/16 [==============================] - 5s 317ms/step - loss: 1.0800e-04 - val_loss: 0.0027\n"
     ]
    },
    {
     "data": {
      "text/plain": [
       "<keras.callbacks.History at 0x1b3be46dad0>"
      ]
     },
     "execution_count": 32,
     "metadata": {},
     "output_type": "execute_result"
    }
   ],
   "source": [
    "model.fit(x_train,y_train,validation_data=(x_test,y_test),epochs=100,batch_size=64,verbose=1)"
   ]
  },
  {
   "cell_type": "code",
   "execution_count": 33,
   "id": "1e2dc350",
   "metadata": {},
   "outputs": [],
   "source": [
    "import tensorflow as tf"
   ]
  },
  {
   "cell_type": "code",
   "execution_count": 34,
   "id": "24f91840",
   "metadata": {},
   "outputs": [
    {
     "data": {
      "text/plain": [
       "'2.12.0-rc1'"
      ]
     },
     "execution_count": 34,
     "metadata": {},
     "output_type": "execute_result"
    }
   ],
   "source": [
    "tf.__version__"
   ]
  },
  {
   "cell_type": "code",
   "execution_count": 35,
   "id": "fadf657a",
   "metadata": {},
   "outputs": [
    {
     "name": "stdout",
     "output_type": "stream",
     "text": [
      "31/31 [==============================] - 5s 66ms/step\n",
      "16/16 [==============================] - 1s 66ms/step\n"
     ]
    }
   ],
   "source": [
    "# Lets do the prediction and check the performance metrics\n",
    "train_predict=model.predict(x_train)\n",
    "test_predict=model.predict(x_test)\n"
   ]
  },
  {
   "cell_type": "code",
   "execution_count": 36,
   "id": "fba135ac",
   "metadata": {},
   "outputs": [],
   "source": [
    "# Transforming to original form \n",
    "train_predict=scaler.inverse_transform(train_predict)\n",
    "test_predict=scaler.inverse_transform(test_predict)"
   ]
  },
  {
   "cell_type": "code",
   "execution_count": 37,
   "id": "b8d190ee",
   "metadata": {},
   "outputs": [
    {
     "data": {
      "text/plain": [
       "1486.2226846104545"
      ]
     },
     "execution_count": 37,
     "metadata": {},
     "output_type": "execute_result"
    }
   ],
   "source": [
    "# Calculate the RMSE performance metrics\n",
    "import math\n",
    "from sklearn.metrics import mean_squared_error\n",
    "math.sqrt(mean_squared_error(y_train,train_predict))"
   ]
  },
  {
   "cell_type": "code",
   "execution_count": 39,
   "id": "31a74a4b",
   "metadata": {},
   "outputs": [
    {
     "data": {
      "text/plain": [
       "2616.928530372964"
      ]
     },
     "execution_count": 39,
     "metadata": {},
     "output_type": "execute_result"
    }
   ],
   "source": [
    "# Test DAta RSME\n",
    "math.sqrt(mean_squared_error(y_test,test_predict))"
   ]
  },
  {
   "cell_type": "code",
   "execution_count": 43,
   "id": "61bc074c",
   "metadata": {},
   "outputs": [
    {
     "data": {
      "image/png": "[encoded data removed]",
      "text/plain": [
       "<Figure size 640x480 with 1 Axes>"
      ]
     },
     "metadata": {},
     "output_type": "display_data"
    }
   ],
   "source": [
    "# Visualize the Data\n",
    "# Plotting the Graph\n",
    "\n",
    "# Shift train prediction for plotting\n",
    "look_back=100\n",
    "trainPredictPlot=np.empty_like(df1)\n",
    "trainPredictPlot[:,:]=np.nan\n",
    "trainPredictPlot[look_back:len(train_predict)+look_back,:]=train_predict\n",
    "\n",
    "# Shift Test Prediction for plotting\n",
    "testPredictPlot=np.empty_like(df1)\n",
    "testPredictPlot[:,:]=np.nan\n",
    "testPredictPlot[len(train_predict)+(look_back*2)+1:len(df1)-1,:]=test_predict\n",
    "\n",
    "# PLot baseline and predictions\n",
    "plt.plot(scaler.inverse_transform(df1))\n",
    "plt.plot(trainPredictPlot)\n",
    "plt.plot(testPredictPlot)\n",
    "plt.show()\n",
    "\n",
    "# Blue  - Actual\n",
    "# Orange- Trained\n",
    "# Green - Predicted"
   ]
  },
  {
   "cell_type": "code",
   "execution_count": 46,
   "id": "4cf020bc",
   "metadata": {},
   "outputs": [
    {
     "data": {
      "text/plain": [
       "584"
      ]
     },
     "execution_count": 46,
     "metadata": {},
     "output_type": "execute_result"
    }
   ],
   "source": [
    "len(test_data)"
   ]
  },
  {
   "cell_type": "code",
   "execution_count": 56,
   "id": "4a9fbe91",
   "metadata": {},
   "outputs": [
    {
     "data": {
      "text/plain": [
       "(1, 100)"
      ]
     },
     "execution_count": 56,
     "metadata": {},
     "output_type": "execute_result"
    }
   ],
   "source": [
    "x_input=test_data[484:].reshape(1,-1)\n",
    "x_input.shape"
   ]
  },
  {
   "cell_type": "code",
   "execution_count": 57,
   "id": "e2ddd4d7",
   "metadata": {},
   "outputs": [],
   "source": [
    "temp_input=list(x_input)\n",
    "temp_input=temp_input[0].tolist()"
   ]
  },
  {
   "cell_type": "code",
   "execution_count": 60,
   "id": "6db7f55e",
   "metadata": {},
   "outputs": [
    {
     "name": "stdout",
     "output_type": "stream",
     "text": [
      "0 day input [0.78077153 0.77164278 0.77625772 0.78107497 0.77935542 0.7737922\n",
      " 0.77897611 0.77922898 0.78744736 0.79870022 0.804137   0.79493243\n",
      " 0.79886456 0.79730942 0.79135424 0.79433816 0.79497034 0.80494618\n",
      " 0.80923237 0.80925768 0.81344275 0.82785652 0.82850136 0.82506226\n",
      " 0.82799561 0.83897029 0.83379904 0.82767952 0.83478522 0.82472086\n",
      " 0.85309329 0.85491396 0.84377488 0.84481169 0.84605074 0.84497603\n",
      " 0.8409174  0.83979213 0.82494848 0.8281473  0.82398755 0.81125535\n",
      " 0.80744966 0.8060462  0.81287378 0.80994043 0.80787953 0.80530024\n",
      " 0.81066114 0.81332896 0.81244391 0.80857494 0.80488296 0.80863815\n",
      " 0.80813241 0.80096342 0.81410018 0.83066338 0.82789443 0.83042316\n",
      " 0.83695996 0.840222   0.84305417 0.84565878 0.84756798 0.87580126\n",
      " 0.87821621 0.89847138 0.90036793 0.9001024  0.91980121 0.91368168\n",
      " 0.92526329 0.92851274 0.94072647 0.93595984 0.95749198 0.93941154\n",
      " 0.97021152 0.97155176 0.97406783 0.96493908 0.95438163 0.95874369\n",
      " 0.97238625 0.98264021 1.         0.98704024 0.96796097 0.96686095\n",
      " 0.97683678 0.97663447 0.9784299  0.9789483  0.97026208 0.95564599\n",
      " 0.95887013 0.95473568 0.89308941 0.88365996] \n",
      " 0 day output [[0.86892176]]\n",
      "1 day input [0.77164278 0.77625772 0.78107497 0.77935542 0.7737922  0.77897611\n",
      " 0.77922898 0.78744736 0.79870022 0.804137   0.79493243 0.79886456\n",
      " 0.79730942 0.79135424 0.79433816 0.79497034 0.80494618 0.80923237\n",
      " 0.80925768 0.81344275 0.82785652 0.82850136 0.82506226 0.82799561\n",
      " 0.83897029 0.83379904 0.82767952 0.83478522 0.82472086 0.85309329\n",
      " 0.85491396 0.84377488 0.84481169 0.84605074 0.84497603 0.8409174\n",
      " 0.83979213 0.82494848 0.8281473  0.82398755 0.81125535 0.80744966\n",
      " 0.8060462  0.81287378 0.80994043 0.80787953 0.80530024 0.81066114\n",
      " 0.81332896 0.81244391 0.80857494 0.80488296 0.80863815 0.80813241\n",
      " 0.80096342 0.81410018 0.83066338 0.82789443 0.83042316 0.83695996\n",
      " 0.840222   0.84305417 0.84565878 0.84756798 0.87580126 0.87821621\n",
      " 0.89847138 0.90036793 0.9001024  0.91980121 0.91368168 0.92526329\n",
      " 0.92851274 0.94072647 0.93595984 0.95749198 0.93941154 0.97021152\n",
      " 0.97155176 0.97406783 0.96493908 0.95438163 0.95874369 0.97238625\n",
      " 0.98264021 1.         0.98704024 0.96796097 0.96686095 0.97683678\n",
      " 0.97663447 0.9784299  0.9789483  0.97026208 0.95564599 0.95887013\n",
      " 0.95473568 0.89308941 0.88365996 0.86892176] \n",
      " 1 day output [[0.85048836]]\n",
      "2 day input [0.77625772 0.78107497 0.77935542 0.7737922  0.77897611 0.77922898\n",
      " 0.78744736 0.79870022 0.804137   0.79493243 0.79886456 0.79730942\n",
      " 0.79135424 0.79433816 0.79497034 0.80494618 0.80923237 0.80925768\n",
      " 0.81344275 0.82785652 0.82850136 0.82506226 0.82799561 0.83897029\n",
      " 0.83379904 0.82767952 0.83478522 0.82472086 0.85309329 0.85491396\n",
      " 0.84377488 0.84481169 0.84605074 0.84497603 0.8409174  0.83979213\n",
      " 0.82494848 0.8281473  0.82398755 0.81125535 0.80744966 0.8060462\n",
      " 0.81287378 0.80994043 0.80787953 0.80530024 0.81066114 0.81332896\n",
      " 0.81244391 0.80857494 0.80488296 0.80863815 0.80813241 0.80096342\n",
      " 0.81410018 0.83066338 0.82789443 0.83042316 0.83695996 0.840222\n",
      " 0.84305417 0.84565878 0.84756798 0.87580126 0.87821621 0.89847138\n",
      " 0.90036793 0.9001024  0.91980121 0.91368168 0.92526329 0.92851274\n",
      " 0.94072647 0.93595984 0.95749198 0.93941154 0.97021152 0.97155176\n",
      " 0.97406783 0.96493908 0.95438163 0.95874369 0.97238625 0.98264021\n",
      " 1.         0.98704024 0.96796097 0.96686095 0.97683678 0.97663447\n",
      " 0.9784299  0.9789483  0.97026208 0.95564599 0.95887013 0.95473568\n",
      " 0.89308941 0.88365996 0.86892176 0.85048836] \n",
      " 2 day output [[0.8301696]]\n",
      "3 day input [0.78107497 0.77935542 0.7737922  0.77897611 0.77922898 0.78744736\n",
      " 0.79870022 0.804137   0.79493243 0.79886456 0.79730942 0.79135424\n",
      " 0.79433816 0.79497034 0.80494618 0.80923237 0.80925768 0.81344275\n",
      " 0.82785652 0.82850136 0.82506226 0.82799561 0.83897029 0.83379904\n",
      " 0.82767952 0.83478522 0.82472086 0.85309329 0.85491396 0.84377488\n",
      " 0.84481169 0.84605074 0.84497603 0.8409174  0.83979213 0.82494848\n",
      " 0.8281473  0.82398755 0.81125535 0.80744966 0.8060462  0.81287378\n",
      " 0.80994043 0.80787953 0.80530024 0.81066114 0.81332896 0.81244391\n",
      " 0.80857494 0.80488296 0.80863815 0.80813241 0.80096342 0.81410018\n",
      " 0.83066338 0.82789443 0.83042316 0.83695996 0.840222   0.84305417\n",
      " 0.84565878 0.84756798 0.87580126 0.87821621 0.89847138 0.90036793\n",
      " 0.9001024  0.91980121 0.91368168 0.92526329 0.92851274 0.94072647\n",
      " 0.93595984 0.95749198 0.93941154 0.97021152 0.97155176 0.97406783\n",
      " 0.96493908 0.95438163 0.95874369 0.97238625 0.98264021 1.\n",
      " 0.98704024 0.96796097 0.96686095 0.97683678 0.97663447 0.9784299\n",
      " 0.9789483  0.97026208 0.95564599 0.95887013 0.95473568 0.89308941\n",
      " 0.88365996 0.86892176 0.85048836 0.83016962] \n",
      " 3 day output [[0.80948895]]\n",
      "4 day input [0.77935542 0.7737922  0.77897611 0.77922898 0.78744736 0.79870022\n",
      " 0.804137   0.79493243 0.79886456 0.79730942 0.79135424 0.79433816\n",
      " 0.79497034 0.80494618 0.80923237 0.80925768 0.81344275 0.82785652\n",
      " 0.82850136 0.82506226 0.82799561 0.83897029 0.83379904 0.82767952\n",
      " 0.83478522 0.82472086 0.85309329 0.85491396 0.84377488 0.84481169\n",
      " 0.84605074 0.84497603 0.8409174  0.83979213 0.82494848 0.8281473\n",
      " 0.82398755 0.81125535 0.80744966 0.8060462  0.81287378 0.80994043\n",
      " 0.80787953 0.80530024 0.81066114 0.81332896 0.81244391 0.80857494\n",
      " 0.80488296 0.80863815 0.80813241 0.80096342 0.81410018 0.83066338\n",
      " 0.82789443 0.83042316 0.83695996 0.840222   0.84305417 0.84565878\n",
      " 0.84756798 0.87580126 0.87821621 0.89847138 0.90036793 0.9001024\n",
      " 0.91980121 0.91368168 0.92526329 0.92851274 0.94072647 0.93595984\n",
      " 0.95749198 0.93941154 0.97021152 0.97155176 0.97406783 0.96493908\n",
      " 0.95438163 0.95874369 0.97238625 0.98264021 1.         0.98704024\n",
      " 0.96796097 0.96686095 0.97683678 0.97663447 0.9784299  0.9789483\n",
      " 0.97026208 0.95564599 0.95887013 0.95473568 0.89308941 0.88365996\n",
      " 0.86892176 0.85048836 0.83016962 0.80948895] \n",
      " 4 day output [[0.78955203]]\n",
      "5 day input [0.7737922  0.77897611 0.77922898 0.78744736 0.79870022 0.804137\n",
      " 0.79493243 0.79886456 0.79730942 0.79135424 0.79433816 0.79497034\n",
      " 0.80494618 0.80923237 0.80925768 0.81344275 0.82785652 0.82850136\n",
      " 0.82506226 0.82799561 0.83897029 0.83379904 0.82767952 0.83478522\n",
      " 0.82472086 0.85309329 0.85491396 0.84377488 0.84481169 0.84605074\n",
      " 0.84497603 0.8409174  0.83979213 0.82494848 0.8281473  0.82398755\n",
      " 0.81125535 0.80744966 0.8060462  0.81287378 0.80994043 0.80787953\n",
      " 0.80530024 0.81066114 0.81332896 0.81244391 0.80857494 0.80488296\n",
      " 0.80863815 0.80813241 0.80096342 0.81410018 0.83066338 0.82789443\n",
      " 0.83042316 0.83695996 0.840222   0.84305417 0.84565878 0.84756798\n",
      " 0.87580126 0.87821621 0.89847138 0.90036793 0.9001024  0.91980121\n",
      " 0.91368168 0.92526329 0.92851274 0.94072647 0.93595984 0.95749198\n",
      " 0.93941154 0.97021152 0.97155176 0.97406783 0.96493908 0.95438163\n",
      " 0.95874369 0.97238625 0.98264021 1.         0.98704024 0.96796097\n",
      " 0.96686095 0.97683678 0.97663447 0.9784299  0.9789483  0.97026208\n",
      " 0.95564599 0.95887013 0.95473568 0.89308941 0.88365996 0.86892176\n",
      " 0.85048836 0.83016962 0.80948895 0.78955203] \n",
      " 5 day output [[0.77108836]]\n",
      "6 day input [0.77897611 0.77922898 0.78744736 0.79870022 0.804137   0.79493243\n",
      " 0.79886456 0.79730942 0.79135424 0.79433816 0.79497034 0.80494618\n",
      " 0.80923237 0.80925768 0.81344275 0.82785652 0.82850136 0.82506226\n",
      " 0.82799561 0.83897029 0.83379904 0.82767952 0.83478522 0.82472086\n",
      " 0.85309329 0.85491396 0.84377488 0.84481169 0.84605074 0.84497603\n",
      " 0.8409174  0.83979213 0.82494848 0.8281473  0.82398755 0.81125535\n",
      " 0.80744966 0.8060462  0.81287378 0.80994043 0.80787953 0.80530024\n",
      " 0.81066114 0.81332896 0.81244391 0.80857494 0.80488296 0.80863815\n",
      " 0.80813241 0.80096342 0.81410018 0.83066338 0.82789443 0.83042316\n",
      " 0.83695996 0.840222   0.84305417 0.84565878 0.84756798 0.87580126\n",
      " 0.87821621 0.89847138 0.90036793 0.9001024  0.91980121 0.91368168\n",
      " 0.92526329 0.92851274 0.94072647 0.93595984 0.95749198 0.93941154\n",
      " 0.97021152 0.97155176 0.97406783 0.96493908 0.95438163 0.95874369\n",
      " 0.97238625 0.98264021 1.         0.98704024 0.96796097 0.96686095\n",
      " 0.97683678 0.97663447 0.9784299  0.9789483  0.97026208 0.95564599\n",
      " 0.95887013 0.95473568 0.89308941 0.88365996 0.86892176 0.85048836\n",
      " 0.83016962 0.80948895 0.78955203 0.77108836] \n",
      " 6 day output [[0.754545]]\n",
      "7 day input [0.77922898 0.78744736 0.79870022 0.804137   0.79493243 0.79886456\n",
      " 0.79730942 0.79135424 0.79433816 0.79497034 0.80494618 0.80923237\n",
      " 0.80925768 0.81344275 0.82785652 0.82850136 0.82506226 0.82799561\n",
      " 0.83897029 0.83379904 0.82767952 0.83478522 0.82472086 0.85309329\n",
      " 0.85491396 0.84377488 0.84481169 0.84605074 0.84497603 0.8409174\n",
      " 0.83979213 0.82494848 0.8281473  0.82398755 0.81125535 0.80744966\n",
      " 0.8060462  0.81287378 0.80994043 0.80787953 0.80530024 0.81066114\n",
      " 0.81332896 0.81244391 0.80857494 0.80488296 0.80863815 0.80813241\n",
      " 0.80096342 0.81410018 0.83066338 0.82789443 0.83042316 0.83695996\n",
      " 0.840222   0.84305417 0.84565878 0.84756798 0.87580126 0.87821621\n",
      " 0.89847138 0.90036793 0.9001024  0.91980121 0.91368168 0.92526329\n",
      " 0.92851274 0.94072647 0.93595984 0.95749198 0.93941154 0.97021152\n",
      " 0.97155176 0.97406783 0.96493908 0.95438163 0.95874369 0.97238625\n",
      " 0.98264021 1.         0.98704024 0.96796097 0.96686095 0.97683678\n",
      " 0.97663447 0.9784299  0.9789483  0.97026208 0.95564599 0.95887013\n",
      " 0.95473568 0.89308941 0.88365996 0.86892176 0.85048836 0.83016962\n",
      " 0.80948895 0.78955203 0.77108836 0.75454497] \n"
     ]
    },
    {
     "name": "stdout",
     "output_type": "stream",
     "text": [
      " 7 day output [[0.7401781]]\n",
      "8 day input [0.78744736 0.79870022 0.804137   0.79493243 0.79886456 0.79730942\n",
      " 0.79135424 0.79433816 0.79497034 0.80494618 0.80923237 0.80925768\n",
      " 0.81344275 0.82785652 0.82850136 0.82506226 0.82799561 0.83897029\n",
      " 0.83379904 0.82767952 0.83478522 0.82472086 0.85309329 0.85491396\n",
      " 0.84377488 0.84481169 0.84605074 0.84497603 0.8409174  0.83979213\n",
      " 0.82494848 0.8281473  0.82398755 0.81125535 0.80744966 0.8060462\n",
      " 0.81287378 0.80994043 0.80787953 0.80530024 0.81066114 0.81332896\n",
      " 0.81244391 0.80857494 0.80488296 0.80863815 0.80813241 0.80096342\n",
      " 0.81410018 0.83066338 0.82789443 0.83042316 0.83695996 0.840222\n",
      " 0.84305417 0.84565878 0.84756798 0.87580126 0.87821621 0.89847138\n",
      " 0.90036793 0.9001024  0.91980121 0.91368168 0.92526329 0.92851274\n",
      " 0.94072647 0.93595984 0.95749198 0.93941154 0.97021152 0.97155176\n",
      " 0.97406783 0.96493908 0.95438163 0.95874369 0.97238625 0.98264021\n",
      " 1.         0.98704024 0.96796097 0.96686095 0.97683678 0.97663447\n",
      " 0.9784299  0.9789483  0.97026208 0.95564599 0.95887013 0.95473568\n",
      " 0.89308941 0.88365996 0.86892176 0.85048836 0.83016962 0.80948895\n",
      " 0.78955203 0.77108836 0.75454497 0.74017811] \n",
      " 8 day output [[0.7281163]]\n",
      "9 day input [0.79870022 0.804137   0.79493243 0.79886456 0.79730942 0.79135424\n",
      " 0.79433816 0.79497034 0.80494618 0.80923237 0.80925768 0.81344275\n",
      " 0.82785652 0.82850136 0.82506226 0.82799561 0.83897029 0.83379904\n",
      " 0.82767952 0.83478522 0.82472086 0.85309329 0.85491396 0.84377488\n",
      " 0.84481169 0.84605074 0.84497603 0.8409174  0.83979213 0.82494848\n",
      " 0.8281473  0.82398755 0.81125535 0.80744966 0.8060462  0.81287378\n",
      " 0.80994043 0.80787953 0.80530024 0.81066114 0.81332896 0.81244391\n",
      " 0.80857494 0.80488296 0.80863815 0.80813241 0.80096342 0.81410018\n",
      " 0.83066338 0.82789443 0.83042316 0.83695996 0.840222   0.84305417\n",
      " 0.84565878 0.84756798 0.87580126 0.87821621 0.89847138 0.90036793\n",
      " 0.9001024  0.91980121 0.91368168 0.92526329 0.92851274 0.94072647\n",
      " 0.93595984 0.95749198 0.93941154 0.97021152 0.97155176 0.97406783\n",
      " 0.96493908 0.95438163 0.95874369 0.97238625 0.98264021 1.\n",
      " 0.98704024 0.96796097 0.96686095 0.97683678 0.97663447 0.9784299\n",
      " 0.9789483  0.97026208 0.95564599 0.95887013 0.95473568 0.89308941\n",
      " 0.88365996 0.86892176 0.85048836 0.83016962 0.80948895 0.78955203\n",
      " 0.77108836 0.75454497 0.74017811 0.72811627] \n",
      " 9 day output [[0.7184019]]\n",
      "10 day input [0.804137   0.79493243 0.79886456 0.79730942 0.79135424 0.79433816\n",
      " 0.79497034 0.80494618 0.80923237 0.80925768 0.81344275 0.82785652\n",
      " 0.82850136 0.82506226 0.82799561 0.83897029 0.83379904 0.82767952\n",
      " 0.83478522 0.82472086 0.85309329 0.85491396 0.84377488 0.84481169\n",
      " 0.84605074 0.84497603 0.8409174  0.83979213 0.82494848 0.8281473\n",
      " 0.82398755 0.81125535 0.80744966 0.8060462  0.81287378 0.80994043\n",
      " 0.80787953 0.80530024 0.81066114 0.81332896 0.81244391 0.80857494\n",
      " 0.80488296 0.80863815 0.80813241 0.80096342 0.81410018 0.83066338\n",
      " 0.82789443 0.83042316 0.83695996 0.840222   0.84305417 0.84565878\n",
      " 0.84756798 0.87580126 0.87821621 0.89847138 0.90036793 0.9001024\n",
      " 0.91980121 0.91368168 0.92526329 0.92851274 0.94072647 0.93595984\n",
      " 0.95749198 0.93941154 0.97021152 0.97155176 0.97406783 0.96493908\n",
      " 0.95438163 0.95874369 0.97238625 0.98264021 1.         0.98704024\n",
      " 0.96796097 0.96686095 0.97683678 0.97663447 0.9784299  0.9789483\n",
      " 0.97026208 0.95564599 0.95887013 0.95473568 0.89308941 0.88365996\n",
      " 0.86892176 0.85048836 0.83016962 0.80948895 0.78955203 0.77108836\n",
      " 0.75454497 0.74017811 0.72811627 0.71840191] \n",
      " 10 day output [[0.71101314]]\n",
      "11 day input [0.79493243 0.79886456 0.79730942 0.79135424 0.79433816 0.79497034\n",
      " 0.80494618 0.80923237 0.80925768 0.81344275 0.82785652 0.82850136\n",
      " 0.82506226 0.82799561 0.83897029 0.83379904 0.82767952 0.83478522\n",
      " 0.82472086 0.85309329 0.85491396 0.84377488 0.84481169 0.84605074\n",
      " 0.84497603 0.8409174  0.83979213 0.82494848 0.8281473  0.82398755\n",
      " 0.81125535 0.80744966 0.8060462  0.81287378 0.80994043 0.80787953\n",
      " 0.80530024 0.81066114 0.81332896 0.81244391 0.80857494 0.80488296\n",
      " 0.80863815 0.80813241 0.80096342 0.81410018 0.83066338 0.82789443\n",
      " 0.83042316 0.83695996 0.840222   0.84305417 0.84565878 0.84756798\n",
      " 0.87580126 0.87821621 0.89847138 0.90036793 0.9001024  0.91980121\n",
      " 0.91368168 0.92526329 0.92851274 0.94072647 0.93595984 0.95749198\n",
      " 0.93941154 0.97021152 0.97155176 0.97406783 0.96493908 0.95438163\n",
      " 0.95874369 0.97238625 0.98264021 1.         0.98704024 0.96796097\n",
      " 0.96686095 0.97683678 0.97663447 0.9784299  0.9789483  0.97026208\n",
      " 0.95564599 0.95887013 0.95473568 0.89308941 0.88365996 0.86892176\n",
      " 0.85048836 0.83016962 0.80948895 0.78955203 0.77108836 0.75454497\n",
      " 0.74017811 0.72811627 0.71840191 0.71101314] \n",
      " 11 day output [[0.7058784]]\n",
      "12 day input [0.79886456 0.79730942 0.79135424 0.79433816 0.79497034 0.80494618\n",
      " 0.80923237 0.80925768 0.81344275 0.82785652 0.82850136 0.82506226\n",
      " 0.82799561 0.83897029 0.83379904 0.82767952 0.83478522 0.82472086\n",
      " 0.85309329 0.85491396 0.84377488 0.84481169 0.84605074 0.84497603\n",
      " 0.8409174  0.83979213 0.82494848 0.8281473  0.82398755 0.81125535\n",
      " 0.80744966 0.8060462  0.81287378 0.80994043 0.80787953 0.80530024\n",
      " 0.81066114 0.81332896 0.81244391 0.80857494 0.80488296 0.80863815\n",
      " 0.80813241 0.80096342 0.81410018 0.83066338 0.82789443 0.83042316\n",
      " 0.83695996 0.840222   0.84305417 0.84565878 0.84756798 0.87580126\n",
      " 0.87821621 0.89847138 0.90036793 0.9001024  0.91980121 0.91368168\n",
      " 0.92526329 0.92851274 0.94072647 0.93595984 0.95749198 0.93941154\n",
      " 0.97021152 0.97155176 0.97406783 0.96493908 0.95438163 0.95874369\n",
      " 0.97238625 0.98264021 1.         0.98704024 0.96796097 0.96686095\n",
      " 0.97683678 0.97663447 0.9784299  0.9789483  0.97026208 0.95564599\n",
      " 0.95887013 0.95473568 0.89308941 0.88365996 0.86892176 0.85048836\n",
      " 0.83016962 0.80948895 0.78955203 0.77108836 0.75454497 0.74017811\n",
      " 0.72811627 0.71840191 0.71101314 0.70587838] \n",
      " 12 day output [[0.7028827]]\n",
      "13 day input [0.79730942 0.79135424 0.79433816 0.79497034 0.80494618 0.80923237\n",
      " 0.80925768 0.81344275 0.82785652 0.82850136 0.82506226 0.82799561\n",
      " 0.83897029 0.83379904 0.82767952 0.83478522 0.82472086 0.85309329\n",
      " 0.85491396 0.84377488 0.84481169 0.84605074 0.84497603 0.8409174\n",
      " 0.83979213 0.82494848 0.8281473  0.82398755 0.81125535 0.80744966\n",
      " 0.8060462  0.81287378 0.80994043 0.80787953 0.80530024 0.81066114\n",
      " 0.81332896 0.81244391 0.80857494 0.80488296 0.80863815 0.80813241\n",
      " 0.80096342 0.81410018 0.83066338 0.82789443 0.83042316 0.83695996\n",
      " 0.840222   0.84305417 0.84565878 0.84756798 0.87580126 0.87821621\n",
      " 0.89847138 0.90036793 0.9001024  0.91980121 0.91368168 0.92526329\n",
      " 0.92851274 0.94072647 0.93595984 0.95749198 0.93941154 0.97021152\n",
      " 0.97155176 0.97406783 0.96493908 0.95438163 0.95874369 0.97238625\n",
      " 0.98264021 1.         0.98704024 0.96796097 0.96686095 0.97683678\n",
      " 0.97663447 0.9784299  0.9789483  0.97026208 0.95564599 0.95887013\n",
      " 0.95473568 0.89308941 0.88365996 0.86892176 0.85048836 0.83016962\n",
      " 0.80948895 0.78955203 0.77108836 0.75454497 0.74017811 0.72811627\n",
      " 0.71840191 0.71101314 0.70587838 0.70288271] \n",
      " 13 day output [[0.701876]]\n",
      "14 day input [0.79135424 0.79433816 0.79497034 0.80494618 0.80923237 0.80925768\n",
      " 0.81344275 0.82785652 0.82850136 0.82506226 0.82799561 0.83897029\n",
      " 0.83379904 0.82767952 0.83478522 0.82472086 0.85309329 0.85491396\n",
      " 0.84377488 0.84481169 0.84605074 0.84497603 0.8409174  0.83979213\n",
      " 0.82494848 0.8281473  0.82398755 0.81125535 0.80744966 0.8060462\n",
      " 0.81287378 0.80994043 0.80787953 0.80530024 0.81066114 0.81332896\n",
      " 0.81244391 0.80857494 0.80488296 0.80863815 0.80813241 0.80096342\n",
      " 0.81410018 0.83066338 0.82789443 0.83042316 0.83695996 0.840222\n",
      " 0.84305417 0.84565878 0.84756798 0.87580126 0.87821621 0.89847138\n",
      " 0.90036793 0.9001024  0.91980121 0.91368168 0.92526329 0.92851274\n",
      " 0.94072647 0.93595984 0.95749198 0.93941154 0.97021152 0.97155176\n",
      " 0.97406783 0.96493908 0.95438163 0.95874369 0.97238625 0.98264021\n",
      " 1.         0.98704024 0.96796097 0.96686095 0.97683678 0.97663447\n",
      " 0.9784299  0.9789483  0.97026208 0.95564599 0.95887013 0.95473568\n",
      " 0.89308941 0.88365996 0.86892176 0.85048836 0.83016962 0.80948895\n",
      " 0.78955203 0.77108836 0.75454497 0.74017811 0.72811627 0.71840191\n",
      " 0.71101314 0.70587838 0.70288271 0.70187598] \n",
      " 14 day output [[0.70267797]]\n",
      "15 day input [0.79433816 0.79497034 0.80494618 0.80923237 0.80925768 0.81344275\n",
      " 0.82785652 0.82850136 0.82506226 0.82799561 0.83897029 0.83379904\n",
      " 0.82767952 0.83478522 0.82472086 0.85309329 0.85491396 0.84377488\n",
      " 0.84481169 0.84605074 0.84497603 0.8409174  0.83979213 0.82494848\n",
      " 0.8281473  0.82398755 0.81125535 0.80744966 0.8060462  0.81287378\n",
      " 0.80994043 0.80787953 0.80530024 0.81066114 0.81332896 0.81244391\n",
      " 0.80857494 0.80488296 0.80863815 0.80813241 0.80096342 0.81410018\n",
      " 0.83066338 0.82789443 0.83042316 0.83695996 0.840222   0.84305417\n",
      " 0.84565878 0.84756798 0.87580126 0.87821621 0.89847138 0.90036793\n",
      " 0.9001024  0.91980121 0.91368168 0.92526329 0.92851274 0.94072647\n",
      " 0.93595984 0.95749198 0.93941154 0.97021152 0.97155176 0.97406783\n",
      " 0.96493908 0.95438163 0.95874369 0.97238625 0.98264021 1.\n",
      " 0.98704024 0.96796097 0.96686095 0.97683678 0.97663447 0.9784299\n",
      " 0.9789483  0.97026208 0.95564599 0.95887013 0.95473568 0.89308941\n",
      " 0.88365996 0.86892176 0.85048836 0.83016962 0.80948895 0.78955203\n",
      " 0.77108836 0.75454497 0.74017811 0.72811627 0.71840191 0.71101314\n",
      " 0.70587838 0.70288271 0.70187598 0.70267797] \n"
     ]
    },
    {
     "name": "stdout",
     "output_type": "stream",
     "text": [
      " 15 day output [[0.70508546]]\n",
      "16 day input [0.79497034 0.80494618 0.80923237 0.80925768 0.81344275 0.82785652\n",
      " 0.82850136 0.82506226 0.82799561 0.83897029 0.83379904 0.82767952\n",
      " 0.83478522 0.82472086 0.85309329 0.85491396 0.84377488 0.84481169\n",
      " 0.84605074 0.84497603 0.8409174  0.83979213 0.82494848 0.8281473\n",
      " 0.82398755 0.81125535 0.80744966 0.8060462  0.81287378 0.80994043\n",
      " 0.80787953 0.80530024 0.81066114 0.81332896 0.81244391 0.80857494\n",
      " 0.80488296 0.80863815 0.80813241 0.80096342 0.81410018 0.83066338\n",
      " 0.82789443 0.83042316 0.83695996 0.840222   0.84305417 0.84565878\n",
      " 0.84756798 0.87580126 0.87821621 0.89847138 0.90036793 0.9001024\n",
      " 0.91980121 0.91368168 0.92526329 0.92851274 0.94072647 0.93595984\n",
      " 0.95749198 0.93941154 0.97021152 0.97155176 0.97406783 0.96493908\n",
      " 0.95438163 0.95874369 0.97238625 0.98264021 1.         0.98704024\n",
      " 0.96796097 0.96686095 0.97683678 0.97663447 0.9784299  0.9789483\n",
      " 0.97026208 0.95564599 0.95887013 0.95473568 0.89308941 0.88365996\n",
      " 0.86892176 0.85048836 0.83016962 0.80948895 0.78955203 0.77108836\n",
      " 0.75454497 0.74017811 0.72811627 0.71840191 0.71101314 0.70587838\n",
      " 0.70288271 0.70187598 0.70267797 0.70508546] \n",
      " 16 day output [[0.7088762]]\n",
      "17 day input [0.80494618 0.80923237 0.80925768 0.81344275 0.82785652 0.82850136\n",
      " 0.82506226 0.82799561 0.83897029 0.83379904 0.82767952 0.83478522\n",
      " 0.82472086 0.85309329 0.85491396 0.84377488 0.84481169 0.84605074\n",
      " 0.84497603 0.8409174  0.83979213 0.82494848 0.8281473  0.82398755\n",
      " 0.81125535 0.80744966 0.8060462  0.81287378 0.80994043 0.80787953\n",
      " 0.80530024 0.81066114 0.81332896 0.81244391 0.80857494 0.80488296\n",
      " 0.80863815 0.80813241 0.80096342 0.81410018 0.83066338 0.82789443\n",
      " 0.83042316 0.83695996 0.840222   0.84305417 0.84565878 0.84756798\n",
      " 0.87580126 0.87821621 0.89847138 0.90036793 0.9001024  0.91980121\n",
      " 0.91368168 0.92526329 0.92851274 0.94072647 0.93595984 0.95749198\n",
      " 0.93941154 0.97021152 0.97155176 0.97406783 0.96493908 0.95438163\n",
      " 0.95874369 0.97238625 0.98264021 1.         0.98704024 0.96796097\n",
      " 0.96686095 0.97683678 0.97663447 0.9784299  0.9789483  0.97026208\n",
      " 0.95564599 0.95887013 0.95473568 0.89308941 0.88365996 0.86892176\n",
      " 0.85048836 0.83016962 0.80948895 0.78955203 0.77108836 0.75454497\n",
      " 0.74017811 0.72811627 0.71840191 0.71101314 0.70587838 0.70288271\n",
      " 0.70187598 0.70267797 0.70508546 0.70887619] \n",
      " 17 day output [[0.7138162]]\n",
      "18 day input [0.80923237 0.80925768 0.81344275 0.82785652 0.82850136 0.82506226\n",
      " 0.82799561 0.83897029 0.83379904 0.82767952 0.83478522 0.82472086\n",
      " 0.85309329 0.85491396 0.84377488 0.84481169 0.84605074 0.84497603\n",
      " 0.8409174  0.83979213 0.82494848 0.8281473  0.82398755 0.81125535\n",
      " 0.80744966 0.8060462  0.81287378 0.80994043 0.80787953 0.80530024\n",
      " 0.81066114 0.81332896 0.81244391 0.80857494 0.80488296 0.80863815\n",
      " 0.80813241 0.80096342 0.81410018 0.83066338 0.82789443 0.83042316\n",
      " 0.83695996 0.840222   0.84305417 0.84565878 0.84756798 0.87580126\n",
      " 0.87821621 0.89847138 0.90036793 0.9001024  0.91980121 0.91368168\n",
      " 0.92526329 0.92851274 0.94072647 0.93595984 0.95749198 0.93941154\n",
      " 0.97021152 0.97155176 0.97406783 0.96493908 0.95438163 0.95874369\n",
      " 0.97238625 0.98264021 1.         0.98704024 0.96796097 0.96686095\n",
      " 0.97683678 0.97663447 0.9784299  0.9789483  0.97026208 0.95564599\n",
      " 0.95887013 0.95473568 0.89308941 0.88365996 0.86892176 0.85048836\n",
      " 0.83016962 0.80948895 0.78955203 0.77108836 0.75454497 0.74017811\n",
      " 0.72811627 0.71840191 0.71101314 0.70587838 0.70288271 0.70187598\n",
      " 0.70267797 0.70508546 0.70887619 0.71381623] \n",
      " 18 day output [[0.7196625]]\n",
      "19 day input [0.80925768 0.81344275 0.82785652 0.82850136 0.82506226 0.82799561\n",
      " 0.83897029 0.83379904 0.82767952 0.83478522 0.82472086 0.85309329\n",
      " 0.85491396 0.84377488 0.84481169 0.84605074 0.84497603 0.8409174\n",
      " 0.83979213 0.82494848 0.8281473  0.82398755 0.81125535 0.80744966\n",
      " 0.8060462  0.81287378 0.80994043 0.80787953 0.80530024 0.81066114\n",
      " 0.81332896 0.81244391 0.80857494 0.80488296 0.80863815 0.80813241\n",
      " 0.80096342 0.81410018 0.83066338 0.82789443 0.83042316 0.83695996\n",
      " 0.840222   0.84305417 0.84565878 0.84756798 0.87580126 0.87821621\n",
      " 0.89847138 0.90036793 0.9001024  0.91980121 0.91368168 0.92526329\n",
      " 0.92851274 0.94072647 0.93595984 0.95749198 0.93941154 0.97021152\n",
      " 0.97155176 0.97406783 0.96493908 0.95438163 0.95874369 0.97238625\n",
      " 0.98264021 1.         0.98704024 0.96796097 0.96686095 0.97683678\n",
      " 0.97663447 0.9784299  0.9789483  0.97026208 0.95564599 0.95887013\n",
      " 0.95473568 0.89308941 0.88365996 0.86892176 0.85048836 0.83016962\n",
      " 0.80948895 0.78955203 0.77108836 0.75454497 0.74017811 0.72811627\n",
      " 0.71840191 0.71101314 0.70587838 0.70288271 0.70187598 0.70267797\n",
      " 0.70508546 0.70887619 0.71381623 0.71966249] \n",
      " 19 day output [[0.7261679]]\n",
      "20 day input [0.81344275 0.82785652 0.82850136 0.82506226 0.82799561 0.83897029\n",
      " 0.83379904 0.82767952 0.83478522 0.82472086 0.85309329 0.85491396\n",
      " 0.84377488 0.84481169 0.84605074 0.84497603 0.8409174  0.83979213\n",
      " 0.82494848 0.8281473  0.82398755 0.81125535 0.80744966 0.8060462\n",
      " 0.81287378 0.80994043 0.80787953 0.80530024 0.81066114 0.81332896\n",
      " 0.81244391 0.80857494 0.80488296 0.80863815 0.80813241 0.80096342\n",
      " 0.81410018 0.83066338 0.82789443 0.83042316 0.83695996 0.840222\n",
      " 0.84305417 0.84565878 0.84756798 0.87580126 0.87821621 0.89847138\n",
      " 0.90036793 0.9001024  0.91980121 0.91368168 0.92526329 0.92851274\n",
      " 0.94072647 0.93595984 0.95749198 0.93941154 0.97021152 0.97155176\n",
      " 0.97406783 0.96493908 0.95438163 0.95874369 0.97238625 0.98264021\n",
      " 1.         0.98704024 0.96796097 0.96686095 0.97683678 0.97663447\n",
      " 0.9784299  0.9789483  0.97026208 0.95564599 0.95887013 0.95473568\n",
      " 0.89308941 0.88365996 0.86892176 0.85048836 0.83016962 0.80948895\n",
      " 0.78955203 0.77108836 0.75454497 0.74017811 0.72811627 0.71840191\n",
      " 0.71101314 0.70587838 0.70288271 0.70187598 0.70267797 0.70508546\n",
      " 0.70887619 0.71381623 0.71966249 0.72616792] \n",
      " 20 day output [[0.73308563]]\n",
      "21 day input [0.82785652 0.82850136 0.82506226 0.82799561 0.83897029 0.83379904\n",
      " 0.82767952 0.83478522 0.82472086 0.85309329 0.85491396 0.84377488\n",
      " 0.84481169 0.84605074 0.84497603 0.8409174  0.83979213 0.82494848\n",
      " 0.8281473  0.82398755 0.81125535 0.80744966 0.8060462  0.81287378\n",
      " 0.80994043 0.80787953 0.80530024 0.81066114 0.81332896 0.81244391\n",
      " 0.80857494 0.80488296 0.80863815 0.80813241 0.80096342 0.81410018\n",
      " 0.83066338 0.82789443 0.83042316 0.83695996 0.840222   0.84305417\n",
      " 0.84565878 0.84756798 0.87580126 0.87821621 0.89847138 0.90036793\n",
      " 0.9001024  0.91980121 0.91368168 0.92526329 0.92851274 0.94072647\n",
      " 0.93595984 0.95749198 0.93941154 0.97021152 0.97155176 0.97406783\n",
      " 0.96493908 0.95438163 0.95874369 0.97238625 0.98264021 1.\n",
      " 0.98704024 0.96796097 0.96686095 0.97683678 0.97663447 0.9784299\n",
      " 0.9789483  0.97026208 0.95564599 0.95887013 0.95473568 0.89308941\n",
      " 0.88365996 0.86892176 0.85048836 0.83016962 0.80948895 0.78955203\n",
      " 0.77108836 0.75454497 0.74017811 0.72811627 0.71840191 0.71101314\n",
      " 0.70587838 0.70288271 0.70187598 0.70267797 0.70508546 0.70887619\n",
      " 0.71381623 0.71966249 0.72616792 0.73308563] \n",
      " 21 day output [[0.7401718]]\n",
      "22 day input [0.82850136 0.82506226 0.82799561 0.83897029 0.83379904 0.82767952\n",
      " 0.83478522 0.82472086 0.85309329 0.85491396 0.84377488 0.84481169\n",
      " 0.84605074 0.84497603 0.8409174  0.83979213 0.82494848 0.8281473\n",
      " 0.82398755 0.81125535 0.80744966 0.8060462  0.81287378 0.80994043\n",
      " 0.80787953 0.80530024 0.81066114 0.81332896 0.81244391 0.80857494\n",
      " 0.80488296 0.80863815 0.80813241 0.80096342 0.81410018 0.83066338\n",
      " 0.82789443 0.83042316 0.83695996 0.840222   0.84305417 0.84565878\n",
      " 0.84756798 0.87580126 0.87821621 0.89847138 0.90036793 0.9001024\n",
      " 0.91980121 0.91368168 0.92526329 0.92851274 0.94072647 0.93595984\n",
      " 0.95749198 0.93941154 0.97021152 0.97155176 0.97406783 0.96493908\n",
      " 0.95438163 0.95874369 0.97238625 0.98264021 1.         0.98704024\n",
      " 0.96796097 0.96686095 0.97683678 0.97663447 0.9784299  0.9789483\n",
      " 0.97026208 0.95564599 0.95887013 0.95473568 0.89308941 0.88365996\n",
      " 0.86892176 0.85048836 0.83016962 0.80948895 0.78955203 0.77108836\n",
      " 0.75454497 0.74017811 0.72811627 0.71840191 0.71101314 0.70587838\n",
      " 0.70288271 0.70187598 0.70267797 0.70508546 0.70887619 0.71381623\n",
      " 0.71966249 0.72616792 0.73308563 0.74017179] \n",
      " 22 day output [[0.74718946]]\n",
      "23 day input [0.82506226 0.82799561 0.83897029 0.83379904 0.82767952 0.83478522\n",
      " 0.82472086 0.85309329 0.85491396 0.84377488 0.84481169 0.84605074\n",
      " 0.84497603 0.8409174  0.83979213 0.82494848 0.8281473  0.82398755\n",
      " 0.81125535 0.80744966 0.8060462  0.81287378 0.80994043 0.80787953\n",
      " 0.80530024 0.81066114 0.81332896 0.81244391 0.80857494 0.80488296\n",
      " 0.80863815 0.80813241 0.80096342 0.81410018 0.83066338 0.82789443\n",
      " 0.83042316 0.83695996 0.840222   0.84305417 0.84565878 0.84756798\n",
      " 0.87580126 0.87821621 0.89847138 0.90036793 0.9001024  0.91980121\n",
      " 0.91368168 0.92526329 0.92851274 0.94072647 0.93595984 0.95749198\n",
      " 0.93941154 0.97021152 0.97155176 0.97406783 0.96493908 0.95438163\n",
      " 0.95874369 0.97238625 0.98264021 1.         0.98704024 0.96796097\n",
      " 0.96686095 0.97683678 0.97663447 0.9784299  0.9789483  0.97026208\n",
      " 0.95564599 0.95887013 0.95473568 0.89308941 0.88365996 0.86892176\n",
      " 0.85048836 0.83016962 0.80948895 0.78955203 0.77108836 0.75454497\n",
      " 0.74017811 0.72811627 0.71840191 0.71101314 0.70587838 0.70288271\n",
      " 0.70187598 0.70267797 0.70508546 0.70887619 0.71381623 0.71966249\n",
      " 0.72616792 0.73308563 0.74017179 0.74718946] \n"
     ]
    },
    {
     "name": "stdout",
     "output_type": "stream",
     "text": [
      " 23 day output [[0.7539122]]\n",
      "24 day input [0.82799561 0.83897029 0.83379904 0.82767952 0.83478522 0.82472086\n",
      " 0.85309329 0.85491396 0.84377488 0.84481169 0.84605074 0.84497603\n",
      " 0.8409174  0.83979213 0.82494848 0.8281473  0.82398755 0.81125535\n",
      " 0.80744966 0.8060462  0.81287378 0.80994043 0.80787953 0.80530024\n",
      " 0.81066114 0.81332896 0.81244391 0.80857494 0.80488296 0.80863815\n",
      " 0.80813241 0.80096342 0.81410018 0.83066338 0.82789443 0.83042316\n",
      " 0.83695996 0.840222   0.84305417 0.84565878 0.84756798 0.87580126\n",
      " 0.87821621 0.89847138 0.90036793 0.9001024  0.91980121 0.91368168\n",
      " 0.92526329 0.92851274 0.94072647 0.93595984 0.95749198 0.93941154\n",
      " 0.97021152 0.97155176 0.97406783 0.96493908 0.95438163 0.95874369\n",
      " 0.97238625 0.98264021 1.         0.98704024 0.96796097 0.96686095\n",
      " 0.97683678 0.97663447 0.9784299  0.9789483  0.97026208 0.95564599\n",
      " 0.95887013 0.95473568 0.89308941 0.88365996 0.86892176 0.85048836\n",
      " 0.83016962 0.80948895 0.78955203 0.77108836 0.75454497 0.74017811\n",
      " 0.72811627 0.71840191 0.71101314 0.70587838 0.70288271 0.70187598\n",
      " 0.70267797 0.70508546 0.70887619 0.71381623 0.71966249 0.72616792\n",
      " 0.73308563 0.74017179 0.74718946 0.75391221] \n",
      " 24 day output [[0.7601285]]\n",
      "25 day input [0.83897029 0.83379904 0.82767952 0.83478522 0.82472086 0.85309329\n",
      " 0.85491396 0.84377488 0.84481169 0.84605074 0.84497603 0.8409174\n",
      " 0.83979213 0.82494848 0.8281473  0.82398755 0.81125535 0.80744966\n",
      " 0.8060462  0.81287378 0.80994043 0.80787953 0.80530024 0.81066114\n",
      " 0.81332896 0.81244391 0.80857494 0.80488296 0.80863815 0.80813241\n",
      " 0.80096342 0.81410018 0.83066338 0.82789443 0.83042316 0.83695996\n",
      " 0.840222   0.84305417 0.84565878 0.84756798 0.87580126 0.87821621\n",
      " 0.89847138 0.90036793 0.9001024  0.91980121 0.91368168 0.92526329\n",
      " 0.92851274 0.94072647 0.93595984 0.95749198 0.93941154 0.97021152\n",
      " 0.97155176 0.97406783 0.96493908 0.95438163 0.95874369 0.97238625\n",
      " 0.98264021 1.         0.98704024 0.96796097 0.96686095 0.97683678\n",
      " 0.97663447 0.9784299  0.9789483  0.97026208 0.95564599 0.95887013\n",
      " 0.95473568 0.89308941 0.88365996 0.86892176 0.85048836 0.83016962\n",
      " 0.80948895 0.78955203 0.77108836 0.75454497 0.74017811 0.72811627\n",
      " 0.71840191 0.71101314 0.70587838 0.70288271 0.70187598 0.70267797\n",
      " 0.70508546 0.70887619 0.71381623 0.71966249 0.72616792 0.73308563\n",
      " 0.74017179 0.74718946 0.75391221 0.7601285 ] \n",
      " 25 day output [[0.7656457]]\n",
      "26 day input [0.83379904 0.82767952 0.83478522 0.82472086 0.85309329 0.85491396\n",
      " 0.84377488 0.84481169 0.84605074 0.84497603 0.8409174  0.83979213\n",
      " 0.82494848 0.8281473  0.82398755 0.81125535 0.80744966 0.8060462\n",
      " 0.81287378 0.80994043 0.80787953 0.80530024 0.81066114 0.81332896\n",
      " 0.81244391 0.80857494 0.80488296 0.80863815 0.80813241 0.80096342\n",
      " 0.81410018 0.83066338 0.82789443 0.83042316 0.83695996 0.840222\n",
      " 0.84305417 0.84565878 0.84756798 0.87580126 0.87821621 0.89847138\n",
      " 0.90036793 0.9001024  0.91980121 0.91368168 0.92526329 0.92851274\n",
      " 0.94072647 0.93595984 0.95749198 0.93941154 0.97021152 0.97155176\n",
      " 0.97406783 0.96493908 0.95438163 0.95874369 0.97238625 0.98264021\n",
      " 1.         0.98704024 0.96796097 0.96686095 0.97683678 0.97663447\n",
      " 0.9784299  0.9789483  0.97026208 0.95564599 0.95887013 0.95473568\n",
      " 0.89308941 0.88365996 0.86892176 0.85048836 0.83016962 0.80948895\n",
      " 0.78955203 0.77108836 0.75454497 0.74017811 0.72811627 0.71840191\n",
      " 0.71101314 0.70587838 0.70288271 0.70187598 0.70267797 0.70508546\n",
      " 0.70887619 0.71381623 0.71966249 0.72616792 0.73308563 0.74017179\n",
      " 0.74718946 0.75391221 0.7601285  0.76564568] \n",
      " 26 day output [[0.770292]]\n",
      "27 day input [0.82767952 0.83478522 0.82472086 0.85309329 0.85491396 0.84377488\n",
      " 0.84481169 0.84605074 0.84497603 0.8409174  0.83979213 0.82494848\n",
      " 0.8281473  0.82398755 0.81125535 0.80744966 0.8060462  0.81287378\n",
      " 0.80994043 0.80787953 0.80530024 0.81066114 0.81332896 0.81244391\n",
      " 0.80857494 0.80488296 0.80863815 0.80813241 0.80096342 0.81410018\n",
      " 0.83066338 0.82789443 0.83042316 0.83695996 0.840222   0.84305417\n",
      " 0.84565878 0.84756798 0.87580126 0.87821621 0.89847138 0.90036793\n",
      " 0.9001024  0.91980121 0.91368168 0.92526329 0.92851274 0.94072647\n",
      " 0.93595984 0.95749198 0.93941154 0.97021152 0.97155176 0.97406783\n",
      " 0.96493908 0.95438163 0.95874369 0.97238625 0.98264021 1.\n",
      " 0.98704024 0.96796097 0.96686095 0.97683678 0.97663447 0.9784299\n",
      " 0.9789483  0.97026208 0.95564599 0.95887013 0.95473568 0.89308941\n",
      " 0.88365996 0.86892176 0.85048836 0.83016962 0.80948895 0.78955203\n",
      " 0.77108836 0.75454497 0.74017811 0.72811627 0.71840191 0.71101314\n",
      " 0.70587838 0.70288271 0.70187598 0.70267797 0.70508546 0.70887619\n",
      " 0.71381623 0.71966249 0.72616792 0.73308563 0.74017179 0.74718946\n",
      " 0.75391221 0.7601285  0.76564568 0.77029198] \n",
      " 27 day output [[0.7739242]]\n",
      "28 day input [0.83478522 0.82472086 0.85309329 0.85491396 0.84377488 0.84481169\n",
      " 0.84605074 0.84497603 0.8409174  0.83979213 0.82494848 0.8281473\n",
      " 0.82398755 0.81125535 0.80744966 0.8060462  0.81287378 0.80994043\n",
      " 0.80787953 0.80530024 0.81066114 0.81332896 0.81244391 0.80857494\n",
      " 0.80488296 0.80863815 0.80813241 0.80096342 0.81410018 0.83066338\n",
      " 0.82789443 0.83042316 0.83695996 0.840222   0.84305417 0.84565878\n",
      " 0.84756798 0.87580126 0.87821621 0.89847138 0.90036793 0.9001024\n",
      " 0.91980121 0.91368168 0.92526329 0.92851274 0.94072647 0.93595984\n",
      " 0.95749198 0.93941154 0.97021152 0.97155176 0.97406783 0.96493908\n",
      " 0.95438163 0.95874369 0.97238625 0.98264021 1.         0.98704024\n",
      " 0.96796097 0.96686095 0.97683678 0.97663447 0.9784299  0.9789483\n",
      " 0.97026208 0.95564599 0.95887013 0.95473568 0.89308941 0.88365996\n",
      " 0.86892176 0.85048836 0.83016962 0.80948895 0.78955203 0.77108836\n",
      " 0.75454497 0.74017811 0.72811627 0.71840191 0.71101314 0.70587838\n",
      " 0.70288271 0.70187598 0.70267797 0.70508546 0.70887619 0.71381623\n",
      " 0.71966249 0.72616792 0.73308563 0.74017179 0.74718946 0.75391221\n",
      " 0.7601285  0.76564568 0.77029198 0.77392417] \n",
      " 28 day output [[0.7764269]]\n",
      "29 day input [0.82472086 0.85309329 0.85491396 0.84377488 0.84481169 0.84605074\n",
      " 0.84497603 0.8409174  0.83979213 0.82494848 0.8281473  0.82398755\n",
      " 0.81125535 0.80744966 0.8060462  0.81287378 0.80994043 0.80787953\n",
      " 0.80530024 0.81066114 0.81332896 0.81244391 0.80857494 0.80488296\n",
      " 0.80863815 0.80813241 0.80096342 0.81410018 0.83066338 0.82789443\n",
      " 0.83042316 0.83695996 0.840222   0.84305417 0.84565878 0.84756798\n",
      " 0.87580126 0.87821621 0.89847138 0.90036793 0.9001024  0.91980121\n",
      " 0.91368168 0.92526329 0.92851274 0.94072647 0.93595984 0.95749198\n",
      " 0.93941154 0.97021152 0.97155176 0.97406783 0.96493908 0.95438163\n",
      " 0.95874369 0.97238625 0.98264021 1.         0.98704024 0.96796097\n",
      " 0.96686095 0.97683678 0.97663447 0.9784299  0.9789483  0.97026208\n",
      " 0.95564599 0.95887013 0.95473568 0.89308941 0.88365996 0.86892176\n",
      " 0.85048836 0.83016962 0.80948895 0.78955203 0.77108836 0.75454497\n",
      " 0.74017811 0.72811627 0.71840191 0.71101314 0.70587838 0.70288271\n",
      " 0.70187598 0.70267797 0.70508546 0.70887619 0.71381623 0.71966249\n",
      " 0.72616792 0.73308563 0.74017179 0.74718946 0.75391221 0.7601285\n",
      " 0.76564568 0.77029198 0.77392417 0.77642691] \n",
      " 29 day output [[0.7777188]]\n",
      "[[0.8689217567443848], [0.8504883646965027], [0.8301696181297302], [0.8094889521598816], [0.7895520329475403], [0.7710883617401123], [0.7545449733734131], [0.740178108215332], [0.7281162738800049], [0.7184019088745117], [0.71101313829422], [0.7058783769607544], [0.702882707118988], [0.7018759846687317], [0.7026779651641846], [0.7050854563713074], [0.7088761925697327], [0.713816225528717], [0.7196624875068665], [0.7261679172515869], [0.7330856323242188], [0.7401717901229858], [0.747189462184906], [0.7539122104644775], [0.7601284980773926], [0.7656456828117371], [0.7702919840812683], [0.7739241719245911], [0.7764269113540649], [0.7777187824249268]]\n"
     ]
    }
   ],
   "source": [
    "# Demonstrate prediction for next 10 days\n",
    "lst_output=[]\n",
    "n_steps=100\n",
    "i=0\n",
    "while(i<30):\n",
    "    if(len(temp_input)>100):\n",
    "        x_input=np.array(temp_input[1:])\n",
    "        print(\"{} day input {} \".format(i,x_input))\n",
    "        x_input=x_input.reshape(1,-1)\n",
    "        x_input=x_input.reshape((1,n_steps,1))\n",
    "        yhat=model.predict(x_input,verbose=0)\n",
    "        print(\" {} day output {}\".format(i,yhat))\n",
    "        temp_input.extend(yhat[0].tolist())\n",
    "        temp_input=temp_input[1:]\n",
    "        lst_output.extend(yhat.tolist())\n",
    "        i=i+1\n",
    "    else:\n",
    "        x_input=x_input.reshape(1,n_steps,1)\n",
    "        yhat=model.predict(x_input,verbose=0)\n",
    "        print(yhat[0])\n",
    "        temp_input.extend(yhat[0].tolist())\n",
    "        print(len(temp_input))\n",
    "        lst_output.extend(yhat.tolist())\n",
    "        i=i+1\n",
    "        \n",
    "print(lst_output)        \n",
    "        "
   ]
  },
  {
   "cell_type": "code",
   "execution_count": 61,
   "id": "d0ff4132",
   "metadata": {},
   "outputs": [],
   "source": [
    "day_new=np.arange(1,101)\n",
    "day_pred=np.arange(101,131)\n"
   ]
  },
  {
   "cell_type": "code",
   "execution_count": 62,
   "id": "a3f204bf",
   "metadata": {},
   "outputs": [
    {
     "data": {
      "text/plain": [
       "1666"
      ]
     },
     "execution_count": 62,
     "metadata": {},
     "output_type": "execute_result"
    }
   ],
   "source": [
    "len(df1)"
   ]
  },
  {
   "cell_type": "code",
   "execution_count": 63,
   "id": "b5f63fa4",
   "metadata": {},
   "outputs": [],
   "source": [
    "df3=df1.tolist()\n",
    "df3.extend(lst_output)"
   ]
  },
  {
   "cell_type": "code",
   "execution_count": 64,
   "id": "7318c264",
   "metadata": {},
   "outputs": [
    {
     "data": {
      "text/plain": [
       "[<matplotlib.lines.Line2D at 0x1b3c8e7b850>]"
      ]
     },
     "execution_count": 64,
     "metadata": {},
     "output_type": "execute_result"
    },
    {
     "data": {
      "image/png": "[encoded data removed]",
      "text/plain": [
       "<Figure size 640x480 with 1 Axes>"
      ]
     },
     "metadata": {},
     "output_type": "display_data"
    }
   ],
   "source": [
    "plt.plot(day_new,scaler.inverse_transform(df1[1566:]))\n",
    "plt.plot(day_pred,scaler.inverse_transform(lst_output))"
   ]
  },
  {
   "cell_type": "code",
   "execution_count": 65,
   "id": "e6d9b6aa",
   "metadata": {},
   "outputs": [
    {
     "data": {
      "text/plain": [
       "[<matplotlib.lines.Line2D at 0x1b3caecca10>]"
      ]
     },
     "execution_count": 65,
     "metadata": {},
     "output_type": "execute_result"
    },
    {
     "data": {
      "image/png": "[encoded data removed]",
      "text/plain": [
       "<Figure size 640x480 with 1 Axes>"
      ]
     },
     "metadata": {},
     "output_type": "display_data"
    }
   ],
   "source": [
    "df3=df1.tolist()\n",
    "df3.extend(lst_output)\n",
    "plt.plot(df3[1000:])"
   ]
  },
  {
   "cell_type": "code",
   "execution_count": 68,
   "id": "f29a3350",
   "metadata": {},
   "outputs": [
    {
     "data": {
      "text/plain": [
       "[<matplotlib.lines.Line2D at 0x1b3cc164450>]"
      ]
     },
     "execution_count": 68,
     "metadata": {},
     "output_type": "execute_result"
    },
    {
     "data": {
      "image/png": "[encoded data removed]",
      "text/plain": [
       "<Figure size 640x480 with 1 Axes>"
      ]
     },
     "metadata": {},
     "output_type": "display_data"
    }
   ],
   "source": [
    "# Final Prediction graph of TCS 'Close' Stock Price\n",
    "df3=df1.tolist()\n",
    "df3.extend(lst_output)\n",
    "plt.plot(df3[1556:])"
   ]
  },
  {
   "cell_type": "code",
   "execution_count": null,
   "id": "8cd23c9d",
   "metadata": {},
   "outputs": [],
   "source": []
  }
 ],
 "metadata": {
  "kernelspec": {
   "display_name": "Python 3 (ipykernel)",
   "language": "python",
   "name": "python3"
  },
  "language_info": {
   "codemirror_mode": {
    "name": "ipython",
    "version": 3
   },
   "file_extension": ".py",
   "mimetype": "text/x-python",
   "name": "python",
   "nbconvert_exporter": "python",
   "pygments_lexer": "ipython3",
   "version": "3.11.2"
  }
 },
 "nbformat": 4,
 "nbformat_minor": 5
}
