{
 "cells": [
  {
   "cell_type": "code",
   "execution_count": 1,
   "id": "a00d249e",
   "metadata": {},
   "outputs": [],
   "source": [
    "import pandas as pd\n",
    "import numpy as np"
   ]
  },
  {
   "cell_type": "code",
   "execution_count": 2,
   "id": "ef93b13e",
   "metadata": {},
   "outputs": [],
   "source": [
    "df=pd.read_csv(\"tcs.csv\")"
   ]
  },
  {
   "cell_type": "code",
   "execution_count": 3,
   "id": "f1085bc6",
   "metadata": {},
   "outputs": [
    {
     "data": {
      "text/html": [
       "<div>\n",
       "<style scoped>\n",
       "    .dataframe tbody tr th:only-of-type {\n",
       "        vertical-align: middle;\n",
       "    }\n",
       "\n",
       "    .dataframe tbody tr th {\n",
       "        vertical-align: top;\n",
       "    }\n",
       "\n",
       "    .dataframe thead th {\n",
       "        text-align: right;\n",
       "    }\n",
       "</style>\n",
       "<table border=\"1\" class=\"dataframe\">\n",
       "  <thead>\n",
       "    <tr style=\"text-align: right;\">\n",
       "      <th></th>\n",
       "      <th>Date</th>\n",
       "      <th>Open</th>\n",
       "      <th>High</th>\n",
       "      <th>Low</th>\n",
       "      <th>Close</th>\n",
       "      <th>Adj Close</th>\n",
       "      <th>Volume</th>\n",
       "    </tr>\n",
       "  </thead>\n",
       "  <tbody>\n",
       "    <tr>\n",
       "      <th>0</th>\n",
       "      <td>01-01-2015</td>\n",
       "      <td>1283.500000</td>\n",
       "      <td>1283.500000</td>\n",
       "      <td>1270.500000</td>\n",
       "      <td>1272.775024</td>\n",
       "      <td>1114.909302</td>\n",
       "      <td>366830.0</td>\n",
       "    </tr>\n",
       "    <tr>\n",
       "      <th>1</th>\n",
       "      <td>02-01-2015</td>\n",
       "      <td>1275.500000</td>\n",
       "      <td>1295.474976</td>\n",
       "      <td>1275.300049</td>\n",
       "      <td>1289.724976</td>\n",
       "      <td>1129.757202</td>\n",
       "      <td>925740.0</td>\n",
       "    </tr>\n",
       "    <tr>\n",
       "      <th>2</th>\n",
       "      <td>05-01-2015</td>\n",
       "      <td>1290.500000</td>\n",
       "      <td>1299.949951</td>\n",
       "      <td>1262.324951</td>\n",
       "      <td>1270.125000</td>\n",
       "      <td>1112.587769</td>\n",
       "      <td>1754242.0</td>\n",
       "    </tr>\n",
       "    <tr>\n",
       "      <th>3</th>\n",
       "      <td>06-01-2015</td>\n",
       "      <td>1264.550049</td>\n",
       "      <td>1264.550049</td>\n",
       "      <td>1220.000000</td>\n",
       "      <td>1223.300049</td>\n",
       "      <td>1071.570801</td>\n",
       "      <td>2423784.0</td>\n",
       "    </tr>\n",
       "    <tr>\n",
       "      <th>4</th>\n",
       "      <td>07-01-2015</td>\n",
       "      <td>1235.000000</td>\n",
       "      <td>1239.574951</td>\n",
       "      <td>1203.724976</td>\n",
       "      <td>1208.849976</td>\n",
       "      <td>1058.912842</td>\n",
       "      <td>2636332.0</td>\n",
       "    </tr>\n",
       "  </tbody>\n",
       "</table>\n",
       "</div>"
      ],
      "text/plain": [
       "         Date         Open         High          Low        Close  \\\n",
       "0  01-01-2015  1283.500000  1283.500000  1270.500000  1272.775024   \n",
       "1  02-01-2015  1275.500000  1295.474976  1275.300049  1289.724976   \n",
       "2  05-01-2015  1290.500000  1299.949951  1262.324951  1270.125000   \n",
       "3  06-01-2015  1264.550049  1264.550049  1220.000000  1223.300049   \n",
       "4  07-01-2015  1235.000000  1239.574951  1203.724976  1208.849976   \n",
       "\n",
       "     Adj Close     Volume  \n",
       "0  1114.909302   366830.0  \n",
       "1  1129.757202   925740.0  \n",
       "2  1112.587769  1754242.0  \n",
       "3  1071.570801  2423784.0  \n",
       "4  1058.912842  2636332.0  "
      ]
     },
     "execution_count": 3,
     "metadata": {},
     "output_type": "execute_result"
    }
   ],
   "source": [
    "df.head()"
   ]
  },
  {
   "cell_type": "code",
   "execution_count": 4,
   "id": "cecc8296",
   "metadata": {},
   "outputs": [
    {
     "name": "stdout",
     "output_type": "stream",
     "text": [
      "<class 'pandas.core.frame.DataFrame'>\n",
      "RangeIndex: 1666 entries, 0 to 1665\n",
      "Data columns (total 7 columns):\n",
      " #   Column     Non-Null Count  Dtype  \n",
      "---  ------     --------------  -----  \n",
      " 0   Date       1666 non-null   object \n",
      " 1   Open       1663 non-null   float64\n",
      " 2   High       1663 non-null   float64\n",
      " 3   Low        1663 non-null   float64\n",
      " 4   Close      1663 non-null   float64\n",
      " 5   Adj Close  1663 non-null   float64\n",
      " 6   Volume     1663 non-null   float64\n",
      "dtypes: float64(6), object(1)\n",
      "memory usage: 91.2+ KB\n"
     ]
    }
   ],
   "source": [
    "df.info()"
   ]
  },
  {
   "cell_type": "code",
   "execution_count": 5,
   "id": "a53a4dcf",
   "metadata": {},
   "outputs": [
    {
     "data": {
      "text/plain": [
       "(1666, 7)"
      ]
     },
     "execution_count": 5,
     "metadata": {},
     "output_type": "execute_result"
    }
   ],
   "source": [
    "df.shape"
   ]
  },
  {
   "cell_type": "code",
   "execution_count": 6,
   "id": "64779a9c",
   "metadata": {},
   "outputs": [
    {
     "data": {
      "text/html": [
       "<div>\n",
       "<style scoped>\n",
       "    .dataframe tbody tr th:only-of-type {\n",
       "        vertical-align: middle;\n",
       "    }\n",
       "\n",
       "    .dataframe tbody tr th {\n",
       "        vertical-align: top;\n",
       "    }\n",
       "\n",
       "    .dataframe thead th {\n",
       "        text-align: right;\n",
       "    }\n",
       "</style>\n",
       "<table border=\"1\" class=\"dataframe\">\n",
       "  <thead>\n",
       "    <tr style=\"text-align: right;\">\n",
       "      <th></th>\n",
       "      <th>Date</th>\n",
       "      <th>Open</th>\n",
       "      <th>High</th>\n",
       "      <th>Low</th>\n",
       "      <th>Close</th>\n",
       "      <th>Adj Close</th>\n",
       "      <th>Volume</th>\n",
       "    </tr>\n",
       "  </thead>\n",
       "  <tbody>\n",
       "    <tr>\n",
       "      <th>0</th>\n",
       "      <td>01-01-2015</td>\n",
       "      <td>1283.500000</td>\n",
       "      <td>1283.500000</td>\n",
       "      <td>1270.500000</td>\n",
       "      <td>1272.775024</td>\n",
       "      <td>1114.909302</td>\n",
       "      <td>366830.0</td>\n",
       "    </tr>\n",
       "    <tr>\n",
       "      <th>1</th>\n",
       "      <td>02-01-2015</td>\n",
       "      <td>1275.500000</td>\n",
       "      <td>1295.474976</td>\n",
       "      <td>1275.300049</td>\n",
       "      <td>1289.724976</td>\n",
       "      <td>1129.757202</td>\n",
       "      <td>925740.0</td>\n",
       "    </tr>\n",
       "    <tr>\n",
       "      <th>2</th>\n",
       "      <td>05-01-2015</td>\n",
       "      <td>1290.500000</td>\n",
       "      <td>1299.949951</td>\n",
       "      <td>1262.324951</td>\n",
       "      <td>1270.125000</td>\n",
       "      <td>1112.587769</td>\n",
       "      <td>1754242.0</td>\n",
       "    </tr>\n",
       "    <tr>\n",
       "      <th>3</th>\n",
       "      <td>06-01-2015</td>\n",
       "      <td>1264.550049</td>\n",
       "      <td>1264.550049</td>\n",
       "      <td>1220.000000</td>\n",
       "      <td>1223.300049</td>\n",
       "      <td>1071.570801</td>\n",
       "      <td>2423784.0</td>\n",
       "    </tr>\n",
       "    <tr>\n",
       "      <th>4</th>\n",
       "      <td>07-01-2015</td>\n",
       "      <td>1235.000000</td>\n",
       "      <td>1239.574951</td>\n",
       "      <td>1203.724976</td>\n",
       "      <td>1208.849976</td>\n",
       "      <td>1058.912842</td>\n",
       "      <td>2636332.0</td>\n",
       "    </tr>\n",
       "    <tr>\n",
       "      <th>...</th>\n",
       "      <td>...</td>\n",
       "      <td>...</td>\n",
       "      <td>...</td>\n",
       "      <td>...</td>\n",
       "      <td>...</td>\n",
       "      <td>...</td>\n",
       "      <td>...</td>\n",
       "    </tr>\n",
       "    <tr>\n",
       "      <th>1661</th>\n",
       "      <td>24-09-2021</td>\n",
       "      <td>3890.000000</td>\n",
       "      <td>3944.399902</td>\n",
       "      <td>3855.000000</td>\n",
       "      <td>3871.300049</td>\n",
       "      <td>3871.300049</td>\n",
       "      <td>2320754.0</td>\n",
       "    </tr>\n",
       "    <tr>\n",
       "      <th>1662</th>\n",
       "      <td>27-09-2021</td>\n",
       "      <td>3900.000000</td>\n",
       "      <td>3904.000000</td>\n",
       "      <td>3802.899902</td>\n",
       "      <td>3836.949951</td>\n",
       "      <td>3836.949951</td>\n",
       "      <td>1673362.0</td>\n",
       "    </tr>\n",
       "    <tr>\n",
       "      <th>1663</th>\n",
       "      <td>28-09-2021</td>\n",
       "      <td>3850.000000</td>\n",
       "      <td>3850.000000</td>\n",
       "      <td>3751.250000</td>\n",
       "      <td>3779.149902</td>\n",
       "      <td>3779.149902</td>\n",
       "      <td>2253075.0</td>\n",
       "    </tr>\n",
       "    <tr>\n",
       "      <th>1664</th>\n",
       "      <td>29-09-2021</td>\n",
       "      <td>3759.800049</td>\n",
       "      <td>3806.000000</td>\n",
       "      <td>3722.149902</td>\n",
       "      <td>3791.899902</td>\n",
       "      <td>3791.899902</td>\n",
       "      <td>2489161.0</td>\n",
       "    </tr>\n",
       "    <tr>\n",
       "      <th>1665</th>\n",
       "      <td>30-09-2021</td>\n",
       "      <td>3805.000000</td>\n",
       "      <td>3805.000000</td>\n",
       "      <td>3750.100098</td>\n",
       "      <td>3775.550049</td>\n",
       "      <td>3775.550049</td>\n",
       "      <td>2252412.0</td>\n",
       "    </tr>\n",
       "  </tbody>\n",
       "</table>\n",
       "<p>1663 rows × 7 columns</p>\n",
       "</div>"
      ],
      "text/plain": [
       "            Date         Open         High          Low        Close  \\\n",
       "0     01-01-2015  1283.500000  1283.500000  1270.500000  1272.775024   \n",
       "1     02-01-2015  1275.500000  1295.474976  1275.300049  1289.724976   \n",
       "2     05-01-2015  1290.500000  1299.949951  1262.324951  1270.125000   \n",
       "3     06-01-2015  1264.550049  1264.550049  1220.000000  1223.300049   \n",
       "4     07-01-2015  1235.000000  1239.574951  1203.724976  1208.849976   \n",
       "...          ...          ...          ...          ...          ...   \n",
       "1661  24-09-2021  3890.000000  3944.399902  3855.000000  3871.300049   \n",
       "1662  27-09-2021  3900.000000  3904.000000  3802.899902  3836.949951   \n",
       "1663  28-09-2021  3850.000000  3850.000000  3751.250000  3779.149902   \n",
       "1664  29-09-2021  3759.800049  3806.000000  3722.149902  3791.899902   \n",
       "1665  30-09-2021  3805.000000  3805.000000  3750.100098  3775.550049   \n",
       "\n",
       "        Adj Close     Volume  \n",
       "0     1114.909302   366830.0  \n",
       "1     1129.757202   925740.0  \n",
       "2     1112.587769  1754242.0  \n",
       "3     1071.570801  2423784.0  \n",
       "4     1058.912842  2636332.0  \n",
       "...           ...        ...  \n",
       "1661  3871.300049  2320754.0  \n",
       "1662  3836.949951  1673362.0  \n",
       "1663  3779.149902  2253075.0  \n",
       "1664  3791.899902  2489161.0  \n",
       "1665  3775.550049  2252412.0  \n",
       "\n",
       "[1663 rows x 7 columns]"
      ]
     },
     "execution_count": 6,
     "metadata": {},
     "output_type": "execute_result"
    }
   ],
   "source": [
    "df.dropna()"
   ]
  },
  {
   "cell_type": "code",
   "execution_count": 7,
   "id": "6befd5bf",
   "metadata": {},
   "outputs": [
    {
     "data": {
      "text/plain": [
       "1058.449951"
      ]
     },
     "execution_count": 7,
     "metadata": {},
     "output_type": "execute_result"
    }
   ],
   "source": [
    "df[\"Open\"].min()"
   ]
  },
  {
   "cell_type": "code",
   "execution_count": 8,
   "id": "29910c91",
   "metadata": {},
   "outputs": [
    {
     "data": {
      "text/plain": [
       "1050.574951"
      ]
     },
     "execution_count": 8,
     "metadata": {},
     "output_type": "execute_result"
    }
   ],
   "source": [
    "df[\"Close\"].min()"
   ]
  },
  {
   "cell_type": "code",
   "execution_count": 9,
   "id": "c00194f5",
   "metadata": {},
   "outputs": [],
   "source": [
    "\n",
    "# Plot the graph for Open and close \n"
   ]
  },
  {
   "cell_type": "code",
   "execution_count": 10,
   "id": "5361cce0",
   "metadata": {},
   "outputs": [],
   "source": [
    "import matplotlib.pyplot as plt"
   ]
  },
  {
   "cell_type": "code",
   "execution_count": 11,
   "id": "cbff1f3a",
   "metadata": {},
   "outputs": [
    {
     "name": "stderr",
     "output_type": "stream",
     "text": [
      "C:\\Users\\Admin\\AppData\\Local\\Temp\\ipykernel_12104\\2829200368.py:1: UserWarning: Parsing dates in DD/MM/YYYY format when dayfirst=False (the default) was specified. This may lead to inconsistently parsed dates! Specify a format to ensure consistent parsing.\n",
      "  df[\"Date\"]=pd.to_datetime(df[\"Date\"])\n"
     ]
    }
   ],
   "source": [
    "df[\"Date\"]=pd.to_datetime(df[\"Date\"])\n",
    "df[\"Year\"]=df[\"Date\"].dt.year"
   ]
  },
  {
   "cell_type": "code",
   "execution_count": 12,
   "id": "295d78d3",
   "metadata": {},
   "outputs": [
    {
     "data": {
      "text/html": [
       "<div>\n",
       "<style scoped>\n",
       "    .dataframe tbody tr th:only-of-type {\n",
       "        vertical-align: middle;\n",
       "    }\n",
       "\n",
       "    .dataframe tbody tr th {\n",
       "        vertical-align: top;\n",
       "    }\n",
       "\n",
       "    .dataframe thead th {\n",
       "        text-align: right;\n",
       "    }\n",
       "</style>\n",
       "<table border=\"1\" class=\"dataframe\">\n",
       "  <thead>\n",
       "    <tr style=\"text-align: right;\">\n",
       "      <th></th>\n",
       "      <th>Date</th>\n",
       "      <th>Open</th>\n",
       "      <th>High</th>\n",
       "      <th>Low</th>\n",
       "      <th>Close</th>\n",
       "      <th>Adj Close</th>\n",
       "      <th>Volume</th>\n",
       "      <th>Year</th>\n",
       "    </tr>\n",
       "  </thead>\n",
       "  <tbody>\n",
       "    <tr>\n",
       "      <th>0</th>\n",
       "      <td>2015-01-01</td>\n",
       "      <td>1283.5</td>\n",
       "      <td>1283.500000</td>\n",
       "      <td>1270.500000</td>\n",
       "      <td>1272.775024</td>\n",
       "      <td>1114.909302</td>\n",
       "      <td>366830.0</td>\n",
       "      <td>2015</td>\n",
       "    </tr>\n",
       "    <tr>\n",
       "      <th>1</th>\n",
       "      <td>2015-02-01</td>\n",
       "      <td>1275.5</td>\n",
       "      <td>1295.474976</td>\n",
       "      <td>1275.300049</td>\n",
       "      <td>1289.724976</td>\n",
       "      <td>1129.757202</td>\n",
       "      <td>925740.0</td>\n",
       "      <td>2015</td>\n",
       "    </tr>\n",
       "  </tbody>\n",
       "</table>\n",
       "</div>"
      ],
      "text/plain": [
       "        Date    Open         High          Low        Close    Adj Close  \\\n",
       "0 2015-01-01  1283.5  1283.500000  1270.500000  1272.775024  1114.909302   \n",
       "1 2015-02-01  1275.5  1295.474976  1275.300049  1289.724976  1129.757202   \n",
       "\n",
       "     Volume  Year  \n",
       "0  366830.0  2015  \n",
       "1  925740.0  2015  "
      ]
     },
     "execution_count": 12,
     "metadata": {},
     "output_type": "execute_result"
    }
   ],
   "source": [
    "df.head(2)"
   ]
  },
  {
   "cell_type": "code",
   "execution_count": 13,
   "id": "dedd3154",
   "metadata": {},
   "outputs": [],
   "source": [
    "\n",
    "# Taking average values of all components as per YEAR\n"
   ]
  },
  {
   "cell_type": "code",
   "execution_count": 14,
   "id": "a4989fdd",
   "metadata": {},
   "outputs": [
    {
     "name": "stderr",
     "output_type": "stream",
     "text": [
      "C:\\Users\\Admin\\AppData\\Local\\Temp\\ipykernel_12104\\282191738.py:1: FutureWarning: The default value of numeric_only in DataFrameGroupBy.mean is deprecated. In a future version, numeric_only will default to False. Either specify numeric_only or select only columns which should be valid for the function.\n",
      "  df.groupby([\"Year\"]).mean()\n"
     ]
    },
    {
     "data": {
      "text/html": [
       "<div>\n",
       "<style scoped>\n",
       "    .dataframe tbody tr th:only-of-type {\n",
       "        vertical-align: middle;\n",
       "    }\n",
       "\n",
       "    .dataframe tbody tr th {\n",
       "        vertical-align: top;\n",
       "    }\n",
       "\n",
       "    .dataframe thead th {\n",
       "        text-align: right;\n",
       "    }\n",
       "</style>\n",
       "<table border=\"1\" class=\"dataframe\">\n",
       "  <thead>\n",
       "    <tr style=\"text-align: right;\">\n",
       "      <th></th>\n",
       "      <th>Open</th>\n",
       "      <th>High</th>\n",
       "      <th>Low</th>\n",
       "      <th>Close</th>\n",
       "      <th>Adj Close</th>\n",
       "      <th>Volume</th>\n",
       "    </tr>\n",
       "    <tr>\n",
       "      <th>Year</th>\n",
       "      <th></th>\n",
       "      <th></th>\n",
       "      <th></th>\n",
       "      <th></th>\n",
       "      <th></th>\n",
       "      <th></th>\n",
       "    </tr>\n",
       "  </thead>\n",
       "  <tbody>\n",
       "    <tr>\n",
       "      <th>2015</th>\n",
       "      <td>1270.948879</td>\n",
       "      <td>1281.719204</td>\n",
       "      <td>1257.073786</td>\n",
       "      <td>1268.712906</td>\n",
       "      <td>1121.778592</td>\n",
       "      <td>2.358312e+06</td>\n",
       "    </tr>\n",
       "    <tr>\n",
       "      <th>2016</th>\n",
       "      <td>1209.537294</td>\n",
       "      <td>1221.234447</td>\n",
       "      <td>1196.120125</td>\n",
       "      <td>1209.673986</td>\n",
       "      <td>1091.715362</td>\n",
       "      <td>2.191959e+06</td>\n",
       "    </tr>\n",
       "    <tr>\n",
       "      <th>2017</th>\n",
       "      <td>1237.662195</td>\n",
       "      <td>1249.830942</td>\n",
       "      <td>1226.309277</td>\n",
       "      <td>1237.889216</td>\n",
       "      <td>1138.605580</td>\n",
       "      <td>2.210239e+06</td>\n",
       "    </tr>\n",
       "    <tr>\n",
       "      <th>2018</th>\n",
       "      <td>1785.393189</td>\n",
       "      <td>1804.510975</td>\n",
       "      <td>1766.011488</td>\n",
       "      <td>1785.442680</td>\n",
       "      <td>1671.464236</td>\n",
       "      <td>3.452862e+06</td>\n",
       "    </tr>\n",
       "    <tr>\n",
       "      <th>2019</th>\n",
       "      <td>2103.239254</td>\n",
       "      <td>2123.351854</td>\n",
       "      <td>2077.997939</td>\n",
       "      <td>2101.155585</td>\n",
       "      <td>2002.473656</td>\n",
       "      <td>3.038498e+06</td>\n",
       "    </tr>\n",
       "    <tr>\n",
       "      <th>2020</th>\n",
       "      <td>2262.479397</td>\n",
       "      <td>2293.491990</td>\n",
       "      <td>2232.732009</td>\n",
       "      <td>2261.548799</td>\n",
       "      <td>2226.073112</td>\n",
       "      <td>3.996893e+06</td>\n",
       "    </tr>\n",
       "    <tr>\n",
       "      <th>2021</th>\n",
       "      <td>3274.235679</td>\n",
       "      <td>3307.119463</td>\n",
       "      <td>3241.329194</td>\n",
       "      <td>3273.438114</td>\n",
       "      <td>3260.457644</td>\n",
       "      <td>2.829891e+06</td>\n",
       "    </tr>\n",
       "  </tbody>\n",
       "</table>\n",
       "</div>"
      ],
      "text/plain": [
       "             Open         High          Low        Close    Adj Close  \\\n",
       "Year                                                                    \n",
       "2015  1270.948879  1281.719204  1257.073786  1268.712906  1121.778592   \n",
       "2016  1209.537294  1221.234447  1196.120125  1209.673986  1091.715362   \n",
       "2017  1237.662195  1249.830942  1226.309277  1237.889216  1138.605580   \n",
       "2018  1785.393189  1804.510975  1766.011488  1785.442680  1671.464236   \n",
       "2019  2103.239254  2123.351854  2077.997939  2101.155585  2002.473656   \n",
       "2020  2262.479397  2293.491990  2232.732009  2261.548799  2226.073112   \n",
       "2021  3274.235679  3307.119463  3241.329194  3273.438114  3260.457644   \n",
       "\n",
       "            Volume  \n",
       "Year                \n",
       "2015  2.358312e+06  \n",
       "2016  2.191959e+06  \n",
       "2017  2.210239e+06  \n",
       "2018  3.452862e+06  \n",
       "2019  3.038498e+06  \n",
       "2020  3.996893e+06  \n",
       "2021  2.829891e+06  "
      ]
     },
     "execution_count": 14,
     "metadata": {},
     "output_type": "execute_result"
    }
   ],
   "source": [
    "df.groupby([\"Year\"]).mean()"
   ]
  },
  {
   "cell_type": "code",
   "execution_count": 23,
   "id": "df6fe5e5",
   "metadata": {},
   "outputs": [],
   "source": [
    "#VISUALISE  the Close price data using graph"
   ]
  },
  {
   "cell_type": "code",
   "execution_count": 28,
   "id": "da24c1cf",
   "metadata": {},
   "outputs": [
    {
     "data": {
      "image/png": "[encoded data removed]",
      "text/plain": [
       "<Figure size 1600x800 with 1 Axes>"
      ]
     },
     "metadata": {},
     "output_type": "display_data"
    }
   ],
   "source": [
    "plt.figure(figsize=(16,8))\n",
    "plt.xlabel(\"Years\")\n",
    "plt.ylabel(\"Close price in Rs.\")\n",
    "plt.title(\"Close Market Data of TCS\")\n",
    "plt.plot(df[\"Close\"])\n",
    "\n",
    "plt.show()"
   ]
  },
  {
   "cell_type": "code",
   "execution_count": null,
   "id": "f2ad84cd",
   "metadata": {},
   "outputs": [],
   "source": [
    "\n",
    " \n"
   ]
  },
  {
   "cell_type": "code",
   "execution_count": null,
   "id": "0e22eaa6",
   "metadata": {},
   "outputs": [],
   "source": []
  },
  {
   "cell_type": "code",
   "execution_count": null,
   "id": "cb5d7683",
   "metadata": {},
   "outputs": [],
   "source": []
  },
  {
   "cell_type": "code",
   "execution_count": null,
   "id": "edeb1e2c",
   "metadata": {},
   "outputs": [],
   "source": []
  }
 ],
 "metadata": {
  "kernelspec": {
   "display_name": "Python 3 (ipykernel)",
   "language": "python",
   "name": "python3"
  },
  "language_info": {
   "codemirror_mode": {
    "name": "ipython",
    "version": 3
   },
   "file_extension": ".py",
   "mimetype": "text/x-python",
   "name": "python",
   "nbconvert_exporter": "python",
   "pygments_lexer": "ipython3",
   "version": "3.11.2"
  }
 },
 "nbformat": 4,
 "nbformat_minor": 5
}
